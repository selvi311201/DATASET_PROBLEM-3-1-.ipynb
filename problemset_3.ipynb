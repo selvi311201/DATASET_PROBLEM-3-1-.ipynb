{
 "cells": [
  {
   "cell_type": "markdown",
   "id": "1e401bb7",
   "metadata": {},
   "source": [
    "<b># Question:1</b>"
   ]
  },
  {
   "cell_type": "code",
   "execution_count": null,
   "id": "e3e98ec8",
   "metadata": {},
   "outputs": [],
   "source": [
    "import pandas as pd\n",
    "import numpy as np\n"
   ]
  },
  {
   "cell_type": "code",
   "execution_count": 2,
   "id": "f374eaf6",
   "metadata": {},
   "outputs": [],
   "source": [
    "url = 'https://github.com/justmarkham/DAT8/raw/master/data/u.user'\n",
    "users = pd.read_csv(url, sep='|')\n"
   ]
  },
  {
   "cell_type": "code",
   "execution_count": 11,
   "id": "0554e0b5",
   "metadata": {},
   "outputs": [
    {
     "name": "stdout",
     "output_type": "stream",
     "text": [
      "Mean age per occupation:\n",
      "occupation\n",
      "administrator    38.75\n",
      "artist           31.39\n",
      "doctor           43.57\n",
      "educator         42.01\n",
      "engineer         36.39\n",
      "entertainment    29.22\n",
      "executive        38.72\n",
      "healthcare       41.56\n",
      "homemaker        32.57\n",
      "lawyer           36.75\n",
      "librarian        40.00\n",
      "marketing        37.62\n",
      "none             26.56\n",
      "other            34.52\n",
      "programmer       33.12\n",
      "retired          63.07\n",
      "salesman         35.67\n",
      "scientist        35.55\n",
      "student          22.08\n",
      "technician       33.15\n",
      "writer           36.31\n",
      "Name: age, dtype: float64\n"
     ]
    }
   ],
   "source": [
    "# Discover the mean age per occupation\n",
    "mean_age_by_occupation = users.groupby('occupation')['age'].mean().round(2)\n",
    "print(\"Mean age per occupation:\")\n",
    "print(mean_age_by_occupation)"
   ]
  },
  {
   "cell_type": "code",
   "execution_count": 7,
   "id": "97406bfa",
   "metadata": {},
   "outputs": [
    {
     "name": "stdout",
     "output_type": "stream",
     "text": [
      "\n",
      "Male ratio per occupation (sorted):\n",
      "occupation\n",
      "doctor           1.000000\n",
      "engineer         0.970149\n",
      "technician       0.962963\n",
      "retired          0.928571\n",
      "programmer       0.909091\n",
      "executive        0.906250\n",
      "scientist        0.903226\n",
      "entertainment    0.888889\n",
      "lawyer           0.833333\n",
      "salesman         0.750000\n",
      "educator         0.726316\n",
      "student          0.693878\n",
      "other            0.657143\n",
      "marketing        0.615385\n",
      "writer           0.577778\n",
      "none             0.555556\n",
      "administrator    0.544304\n",
      "artist           0.535714\n",
      "librarian        0.431373\n",
      "healthcare       0.312500\n",
      "homemaker        0.142857\n",
      "dtype: float64\n"
     ]
    }
   ],
   "source": [
    "#Discover the Male ratio per occupation and sort it from the most to the least\n",
    "male_ratio = users[users['gender'] == 'M'].groupby('occupation').size() / users.groupby('occupation').size()\n",
    "male_ratio_sorted = male_ratio.sort_values(ascending=False)\n",
    "print(\"\\nMale ratio per occupation (sorted):\")\n",
    "print(male_ratio_sorted)\n"
   ]
  },
  {
   "cell_type": "code",
   "execution_count": 8,
   "id": "e6af9068",
   "metadata": {},
   "outputs": [
    {
     "name": "stdout",
     "output_type": "stream",
     "text": [
      "\n",
      "Age range by occupation:\n",
      "               min  max\n",
      "occupation             \n",
      "administrator   21   70\n",
      "artist          19   48\n",
      "doctor          28   64\n",
      "educator        23   63\n",
      "engineer        22   70\n",
      "entertainment   15   50\n",
      "executive       22   69\n",
      "healthcare      22   62\n",
      "homemaker       20   50\n",
      "lawyer          21   53\n",
      "librarian       23   69\n",
      "marketing       24   55\n",
      "none            11   55\n",
      "other           13   64\n",
      "programmer      20   63\n",
      "retired         51   73\n",
      "salesman        18   66\n",
      "scientist       23   55\n",
      "student          7   42\n",
      "technician      21   55\n",
      "writer          18   60\n"
     ]
    }
   ],
   "source": [
    "#For each occupation, calculate the minimum and maximum ages\n",
    "age_range_by_occupation = users.groupby('occupation')['age'].agg(['min', 'max'])\n",
    "print(\"\\nAge range by occupation:\")\n",
    "print(age_range_by_occupation)\n"
   ]
  },
  {
   "cell_type": "code",
   "execution_count": 9,
   "id": "c34a80c2",
   "metadata": {},
   "outputs": [
    {
     "name": "stdout",
     "output_type": "stream",
     "text": [
      "\n",
      "Mean age by occupation and gender:\n",
      "occupation     gender\n",
      "administrator  F         40.64\n",
      "               M         37.16\n",
      "artist         F         30.31\n",
      "               M         32.33\n",
      "doctor         M         43.57\n",
      "educator       F         39.12\n",
      "               M         43.10\n",
      "engineer       F         29.50\n",
      "               M         36.60\n",
      "entertainment  F         31.00\n",
      "               M         29.00\n",
      "executive      F         44.00\n",
      "               M         38.17\n",
      "healthcare     F         39.82\n",
      "               M         45.40\n",
      "homemaker      F         34.17\n",
      "               M         23.00\n",
      "lawyer         F         39.50\n",
      "               M         36.20\n",
      "librarian      F         40.00\n",
      "               M         40.00\n",
      "marketing      F         37.20\n",
      "               M         37.88\n",
      "none           F         36.50\n",
      "               M         18.60\n",
      "other          F         35.47\n",
      "               M         34.03\n",
      "programmer     F         32.17\n",
      "               M         33.22\n",
      "retired        F         70.00\n",
      "               M         62.54\n",
      "salesman       F         27.00\n",
      "               M         38.56\n",
      "scientist      F         28.33\n",
      "               M         36.32\n",
      "student        F         20.75\n",
      "               M         22.67\n",
      "technician     F         38.00\n",
      "               M         32.96\n",
      "writer         F         37.63\n",
      "               M         35.35\n",
      "Name: age, dtype: float64\n"
     ]
    }
   ],
   "source": [
    "#  For each combination of occupation and sex, calculate the mean age\n",
    "mean_age_by_occupation_gender = users.groupby(['occupation', 'gender'])['age'].mean().round(2)\n",
    "print(\"\\nMean age by occupation and gender:\")\n",
    "print(mean_age_by_occupation_gender)"
   ]
  },
  {
   "cell_type": "code",
   "execution_count": 10,
   "id": "fee9abd8",
   "metadata": {},
   "outputs": [
    {
     "name": "stdout",
     "output_type": "stream",
     "text": [
      "\n",
      "Percentage of women and men by occupation:\n",
      "gender            F      M\n",
      "occupation                \n",
      "administrator  46.0   54.0\n",
      "artist         46.0   54.0\n",
      "doctor          NaN  100.0\n",
      "educator       27.0   73.0\n",
      "engineer        3.0   97.0\n",
      "entertainment  11.0   89.0\n",
      "executive       9.0   91.0\n",
      "healthcare     69.0   31.0\n",
      "homemaker      86.0   14.0\n",
      "lawyer         17.0   83.0\n",
      "librarian      57.0   43.0\n",
      "marketing      38.0   62.0\n",
      "none           44.0   56.0\n",
      "other          34.0   66.0\n",
      "programmer      9.0   91.0\n",
      "retired         7.0   93.0\n",
      "salesman       25.0   75.0\n",
      "scientist      10.0   90.0\n",
      "student        31.0   69.0\n",
      "technician      4.0   96.0\n",
      "writer         42.0   58.0\n"
     ]
    }
   ],
   "source": [
    "# For each occupation, present the percentage of women and men\n",
    "gender_percentage = users.groupby('occupation')['gender'].value_counts(normalize=True).unstack()\n",
    "gender_percentage = gender_percentage.round(2) * 100  # Convert to percentage\n",
    "print(\"\\nPercentage of women and men by occupation:\")\n",
    "print(gender_percentage)"
   ]
  },
  {
   "cell_type": "markdown",
   "id": "b5b8e028",
   "metadata": {},
   "source": [
    "#<b># Question:2</b>"
   ]
  },
  {
   "cell_type": "code",
   "execution_count": 39,
   "id": "e9209bbd",
   "metadata": {},
   "outputs": [],
   "source": [
    "import pandas as pd\n",
    "import numpy as np"
   ]
  },
  {
   "cell_type": "code",
   "execution_count": 42,
   "id": "5f50f6b3",
   "metadata": {},
   "outputs": [],
   "source": [
    "# Step 2: Import the dataset from the address\n",
    "url = \"https://raw.githubusercontent.com/guipsamora/pandas_exercises/master/02_Filtering_%26_Sorting/Euro12/Euro_2012_stats_TEAM.csv\""
   ]
  },
  {
   "cell_type": "code",
   "execution_count": 46,
   "id": "6e38a2ca",
   "metadata": {},
   "outputs": [],
   "source": [
    "#  Assign it to a variable called euro12\n",
    "euro12 = pd.read_csv(url)"
   ]
  },
  {
   "cell_type": "code",
   "execution_count": 47,
   "id": "1be07467",
   "metadata": {},
   "outputs": [],
   "source": [
    "#  Select only the Goal column\n",
    "goals = euro12['Goals']"
   ]
  },
  {
   "cell_type": "code",
   "execution_count": 48,
   "id": "c8e8dd6a",
   "metadata": {},
   "outputs": [
    {
     "name": "stdout",
     "output_type": "stream",
     "text": [
      "\n",
      "Number of teams participated: 16\n"
     ]
    }
   ],
   "source": [
    "#  How many teams participated in Euro 2012?\n",
    "num_teams = len(euro12)\n",
    "print(f\"\\nNumber of teams participated: {num_teams}\")\n"
   ]
  },
  {
   "cell_type": "code",
   "execution_count": 49,
   "id": "a4d05bf3",
   "metadata": {},
   "outputs": [
    {
     "name": "stdout",
     "output_type": "stream",
     "text": [
      "Number of columns: 35\n"
     ]
    }
   ],
   "source": [
    "#  What is the number of columns in the dataset?\n",
    "num_columns = euro12.shape[1]\n",
    "print(f\"Number of columns: {num_columns}\")\n"
   ]
  },
  {
   "cell_type": "code",
   "execution_count": 50,
   "id": "cad1a243",
   "metadata": {},
   "outputs": [
    {
     "name": "stdout",
     "output_type": "stream",
     "text": [
      "\n",
      "Discipline dataframe:\n",
      "                   Team  Yellow Cards  Red Cards\n",
      "0               Croatia             9          0\n",
      "1        Czech Republic             7          0\n",
      "2               Denmark             4          0\n",
      "3               England             5          0\n",
      "4                France             6          0\n",
      "5               Germany             4          0\n",
      "6                Greece             9          1\n",
      "7                 Italy            16          0\n",
      "8           Netherlands             5          0\n",
      "9                Poland             7          1\n",
      "10             Portugal            12          0\n",
      "11  Republic of Ireland             6          1\n",
      "12               Russia             6          0\n",
      "13                Spain            11          0\n",
      "14               Sweden             7          0\n",
      "15              Ukraine             5          0\n"
     ]
    }
   ],
   "source": [
    "#  View only the columns Team, Yellow Cards and Red Cards and assign them to a dataframe called discipline\n",
    "discipline = euro12[['Team', 'Yellow Cards', 'Red Cards']]\n",
    "print(\"\\nDiscipline dataframe:\")\n",
    "print(discipline)\n"
   ]
  },
  {
   "cell_type": "code",
   "execution_count": 51,
   "id": "7686e16d",
   "metadata": {},
   "outputs": [
    {
     "name": "stdout",
     "output_type": "stream",
     "text": [
      "\n",
      "Teams sorted by Red Cards, then Yellow Cards:\n",
      "                   Team  Yellow Cards  Red Cards\n",
      "6                Greece             9          1\n",
      "9                Poland             7          1\n",
      "11  Republic of Ireland             6          1\n",
      "7                 Italy            16          0\n",
      "10             Portugal            12          0\n",
      "13                Spain            11          0\n",
      "0               Croatia             9          0\n",
      "1        Czech Republic             7          0\n",
      "14               Sweden             7          0\n",
      "4                France             6          0\n",
      "12               Russia             6          0\n",
      "3               England             5          0\n",
      "8           Netherlands             5          0\n",
      "15              Ukraine             5          0\n",
      "2               Denmark             4          0\n",
      "5               Germany             4          0\n"
     ]
    }
   ],
   "source": [
    "#  Sort the teams by Red Cards, then by Yellow Cards\n",
    "discipline_sorted = discipline.sort_values(['Red Cards', 'Yellow Cards'], ascending=False)\n",
    "print(\"\\nTeams sorted by Red Cards, then Yellow Cards:\")\n",
    "print(discipline_sorted)"
   ]
  },
  {
   "cell_type": "code",
   "execution_count": 52,
   "id": "e506a6e7",
   "metadata": {},
   "outputs": [
    {
     "name": "stdout",
     "output_type": "stream",
     "text": [
      "\n",
      "Mean Yellow Cards per Team: 7.44\n"
     ]
    }
   ],
   "source": [
    "# Calculate the mean Yellow Cards given per Team\n",
    "mean_yellow_cards = discipline['Yellow Cards'].mean()\n",
    "print(f\"\\nMean Yellow Cards per Team: {mean_yellow_cards:.2f}\")\n"
   ]
  },
  {
   "cell_type": "code",
   "execution_count": 53,
   "id": "2bc9204a",
   "metadata": {},
   "outputs": [
    {
     "name": "stdout",
     "output_type": "stream",
     "text": [
      "\n",
      "Teams that scored more than 6 goals:\n",
      "       Team  Goals\n",
      "5   Germany     10\n",
      "13    Spain     12\n"
     ]
    }
   ],
   "source": [
    "# Filter teams that scored more than 6 goals\n",
    "high_scoring_teams = euro12[euro12['Goals'] > 6]\n",
    "print(\"\\nTeams that scored more than 6 goals:\")\n",
    "print(high_scoring_teams[['Team', 'Goals']])"
   ]
  },
  {
   "cell_type": "code",
   "execution_count": 54,
   "id": "c0dbebe6",
   "metadata": {},
   "outputs": [
    {
     "name": "stdout",
     "output_type": "stream",
     "text": [
      "\n",
      "Teams that start with G:\n",
      "5    Germany\n",
      "6     Greece\n",
      "Name: Team, dtype: object\n"
     ]
    }
   ],
   "source": [
    "#  Select the teams that start with G\n",
    "teams_g = euro12[euro12['Team'].str.startswith('G')]\n",
    "print(\"\\nTeams that start with G:\")\n",
    "print(teams_g['Team'])"
   ]
  },
  {
   "cell_type": "code",
   "execution_count": 55,
   "id": "650dbade",
   "metadata": {},
   "outputs": [
    {
     "name": "stdout",
     "output_type": "stream",
     "text": [
      "\n",
      "First 7 columns:\n",
      "Index(['Team', 'Goals', 'Shots on target', 'Shots off target',\n",
      "       'Shooting Accuracy', '% Goals-to-shots', 'Total shots (inc. Blocked)'],\n",
      "      dtype='object')\n"
     ]
    }
   ],
   "source": [
    "# Select the first 7 columns\n",
    "first_7_columns = euro12.iloc[:, :7]\n",
    "print(\"\\nFirst 7 columns:\")\n",
    "print(first_7_columns.columns)"
   ]
  },
  {
   "cell_type": "code",
   "execution_count": 59,
   "id": "45bb33cc",
   "metadata": {},
   "outputs": [
    {
     "name": "stdout",
     "output_type": "stream",
     "text": [
      "\n",
      "All columns except the last 3:\n",
      "Index(['Team', 'Goals', 'Shots on target', 'Shots off target',\n",
      "       'Shooting Accuracy', '% Goals-to-shots', 'Total shots (inc. Blocked)',\n",
      "       'Hit Woodwork', 'Penalty goals', 'Penalties not scored', 'Headed goals',\n",
      "       'Passes', 'Passes completed', 'Passing Accuracy', 'Touches', 'Crosses',\n",
      "       'Dribbles', 'Corners Taken', 'Tackles', 'Clearances', 'Interceptions',\n",
      "       'Clearances off line', 'Clean Sheets', 'Blocks', 'Goals conceded',\n",
      "       'Saves made', 'Saves-to-shots ratio', 'Fouls Won', 'Fouls Conceded',\n",
      "       'Offsides', 'Yellow Cards', 'Red Cards'],\n",
      "      dtype='object')\n"
     ]
    }
   ],
   "source": [
    "#  Select all columns except the last 3\n",
    "all_but_last_3 = euro12.iloc[:, :-3]\n",
    "print(\"\\nAll columns except the last 3:\")\n",
    "print(all_but_last_3.columns)"
   ]
  },
  {
   "cell_type": "code",
   "execution_count": 58,
   "id": "914c38c5",
   "metadata": {},
   "outputs": [
    {
     "name": "stdout",
     "output_type": "stream",
     "text": [
      "\n",
      "Shooting Accuracy for England, Italy, and Russia:\n",
      "       Team Shooting Accuracy\n",
      "3   England             50.0%\n",
      "7     Italy             43.0%\n",
      "12   Russia             22.5%\n"
     ]
    }
   ],
   "source": [
    "#  Present only the Shooting Accuracy from England, Italy and Russia\n",
    "selected_teams = ['England', 'Italy', 'Russia']\n",
    "shooting_accuracy = euro12[euro12['Team'].isin(selected_teams)][['Team', 'Shooting Accuracy']]\n",
    "print(\"\\nShooting Accuracy for England, Italy, and Russia:\")\n",
    "print(shooting_accuracy)"
   ]
  },
  {
   "cell_type": "markdown",
   "id": "ab8ce366",
   "metadata": {},
   "source": [
    "<b># Question:3</b>"
   ]
  },
  {
   "cell_type": "code",
   "execution_count": 60,
   "id": "71622da4",
   "metadata": {},
   "outputs": [],
   "source": [
    "import pandas as pd\n",
    "import numpy as np"
   ]
  },
  {
   "cell_type": "code",
   "execution_count": 61,
   "id": "c1f84339",
   "metadata": {},
   "outputs": [],
   "source": [
    "#  Create 3 different Series, each of length 100\n",
    "np.random.seed(0)  # for reproducibility\n",
    "series1 = pd.Series(np.random.randint(1, 5, size=100))  # random number from 1 to 4\n",
    "series2 = pd.Series(np.random.randint(1, 4, size=100))  # random number from 1 to 3\n",
    "series3 = pd.Series(np.random.randint(10000, 30001, size=100))  # random number from 10,000 to 30,000"
   ]
  },
  {
   "cell_type": "code",
   "execution_count": 62,
   "id": "53bf12a4",
   "metadata": {},
   "outputs": [
    {
     "name": "stdout",
     "output_type": "stream",
     "text": [
      "DataFrame head:\n",
      "   0  1      2\n",
      "0  1  2  15021\n",
      "1  4  3  11134\n",
      "2  2  1  26409\n",
      "3  1  1  19680\n",
      "4  4  3  27340\n"
     ]
    }
   ],
   "source": [
    "#  Create a DataFrame by joining the Series by column\n",
    "df = pd.concat([series1, series2, series3], axis=1)\n",
    "print(\"DataFrame head:\")\n",
    "print(df.head())\n"
   ]
  },
  {
   "cell_type": "code",
   "execution_count": 63,
   "id": "8ca2bd8c",
   "metadata": {},
   "outputs": [
    {
     "name": "stdout",
     "output_type": "stream",
     "text": [
      "DataFrame head:\n",
      "   bedrs  bathrs  price_sqr_meter\n",
      "0      1       2            15021\n",
      "1      4       3            11134\n",
      "2      2       1            26409\n",
      "3      1       1            19680\n",
      "4      4       3            27340\n"
     ]
    }
   ],
   "source": [
    "#  Change the name of the columns\n",
    "df.columns = ['bedrs', 'bathrs', 'price_sqr_meter']\n",
    "print(\"DataFrame head:\")\n",
    "print(df.head())\n"
   ]
  },
  {
   "cell_type": "code",
   "execution_count": 64,
   "id": "ef588136",
   "metadata": {},
   "outputs": [
    {
     "name": "stdout",
     "output_type": "stream",
     "text": [
      "\n",
      "Bigcolumn head:\n",
      "   values\n",
      "0       1\n",
      "1       4\n",
      "2       2\n",
      "3       1\n",
      "4       4\n"
     ]
    }
   ],
   "source": [
    "#  Create a one column DataFrame with the values of the 3 Series\n",
    "bigcolumn = pd.DataFrame(pd.concat([series1, series2, series3], axis=0), columns=['values'])\n",
    "print(\"\\nBigcolumn head:\")\n",
    "print(bigcolumn.head())\n"
   ]
  },
  {
   "cell_type": "code",
   "execution_count": 65,
   "id": "0f8518f5",
   "metadata": {},
   "outputs": [
    {
     "name": "stdout",
     "output_type": "stream",
     "text": [
      "\n",
      "Is bigcolumn only going until index 99?\n",
      "True\n"
     ]
    }
   ],
   "source": [
    "# Check if it's going only until index 99\n",
    "print(\"\\nIs bigcolumn only going until index 99?\")\n",
    "print(bigcolumn.index.max() == 99)"
   ]
  },
  {
   "cell_type": "code",
   "execution_count": 66,
   "id": "95ae93a5",
   "metadata": {},
   "outputs": [
    {
     "name": "stdout",
     "output_type": "stream",
     "text": [
      "\n",
      "Reindexed bigcolumn tail:\n",
      "     values\n",
      "295   28161\n",
      "296   29745\n",
      "297   18338\n",
      "298   24676\n",
      "299   12562\n",
      "\n",
      "New index range:\n",
      "Start: 0, End: 299\n"
     ]
    }
   ],
   "source": [
    "#Reindex the DataFrame so it goes from 0 to 299\n",
    "bigcolumn_reindexed = bigcolumn.reset_index(drop=True)\n",
    "\n",
    "print(\"\\nReindexed bigcolumn tail:\")\n",
    "print(bigcolumn_reindexed.tail())\n",
    "\n",
    "print(\"\\nNew index range:\")\n",
    "print(f\"Start: {bigcolumn_reindexed.index.min()}, End: {bigcolumn_reindexed.index.max()}\")"
   ]
  },
  {
   "cell_type": "markdown",
   "id": "20ea0d7c",
   "metadata": {},
   "source": [
    "<b>#Question:4</b>"
   ]
  },
  {
   "cell_type": "code",
   "execution_count": 37,
   "id": "71cf10d7",
   "metadata": {},
   "outputs": [
    {
     "name": "stdout",
     "output_type": "stream",
     "text": [
      "Requirement already satisfied: pandas in c:\\users\\selvi\\anaconda3\\lib\\site-packages (2.1.4)\n",
      "Requirement already satisfied: numpy in c:\\users\\selvi\\anaconda3\\lib\\site-packages (1.26.4)\n",
      "Requirement already satisfied: python-dateutil>=2.8.2 in c:\\users\\selvi\\anaconda3\\lib\\site-packages (from pandas) (2.8.2)\n",
      "Requirement already satisfied: pytz>=2020.1 in c:\\users\\selvi\\anaconda3\\lib\\site-packages (from pandas) (2023.3.post1)\n",
      "Requirement already satisfied: tzdata>=2022.1 in c:\\users\\selvi\\anaconda3\\lib\\site-packages (from pandas) (2023.3)\n",
      "Requirement already satisfied: six>=1.5 in c:\\users\\selvi\\anaconda3\\lib\\site-packages (from python-dateutil>=2.8.2->pandas) (1.16.0)\n"
     ]
    }
   ],
   "source": [
    "!pip install pandas numpy"
   ]
  },
  {
   "cell_type": "code",
   "execution_count": 67,
   "id": "60b5f79d",
   "metadata": {},
   "outputs": [],
   "source": [
    "import pandas as pd\n",
    "import numpy as np\n",
    "\n",
    "#  Import the dataset from the file\n",
    "data = pd.read_csv('wind.txt', delim_whitespace=True)\n",
    "\n"
   ]
  },
  {
   "cell_type": "code",
   "execution_count": 68,
   "id": "8430de9c",
   "metadata": {},
   "outputs": [],
   "source": [
    "# Save DataFrame to CSV\n",
    "df.to_csv('wind_data.csv', index=False)\n"
   ]
  },
  {
   "cell_type": "code",
   "execution_count": 69,
   "id": "dc8a987f",
   "metadata": {},
   "outputs": [
    {
     "name": "stdout",
     "output_type": "stream",
     "text": [
      "              RPT    VAL    ROS    KIL    SHA    BIR    DUB    CLA    MUL  \\\n",
      "Date                                                                        \n",
      "2061-01-01  15.04  14.96  13.17   9.29    NaN   9.87  13.67  10.25  10.83   \n",
      "2061-01-02  14.71    NaN  10.83   6.50  12.62   7.67  11.50  10.04   9.79   \n",
      "2061-01-03  18.50  16.88  12.33  10.13  11.17   6.17  11.25    NaN   8.50   \n",
      "2061-01-04  10.58   6.63  11.75   4.58   4.54   2.88   8.63   1.79   5.83   \n",
      "2061-01-05  13.33  13.25  11.42   6.17  10.71   8.21  11.92   6.54  10.92   \n",
      "...           ...    ...    ...    ...    ...    ...    ...    ...    ...   \n",
      "1978-12-27  17.58  16.96  17.62   8.08  13.21  11.67  14.46  15.59  14.04   \n",
      "1978-12-28  13.21   5.46  13.46   5.00   8.12   9.42  14.33  16.25  15.25   \n",
      "1978-12-29  14.00  10.29  14.42   8.71   9.71  10.54  19.17  12.46  14.50   \n",
      "1978-12-30  18.50  14.04  21.29   9.13  12.75   9.71  18.08  12.87  12.46   \n",
      "1978-12-31  20.33  17.41  27.29   9.59  12.08  10.13  19.25  11.63  11.58   \n",
      "\n",
      "              CLO    BEL    MAL  \n",
      "Date                             \n",
      "2061-01-01  12.58  18.50  15.04  \n",
      "2061-01-02   9.67  17.54  13.83  \n",
      "2061-01-03   7.67  12.75  12.71  \n",
      "2061-01-04   5.88   5.46  10.88  \n",
      "2061-01-05  10.34  12.92  11.83  \n",
      "...           ...    ...    ...  \n",
      "1978-12-27  14.00  17.21  40.08  \n",
      "1978-12-28  18.05  21.79  41.46  \n",
      "1978-12-29  16.42  18.88  29.58  \n",
      "1978-12-30  12.12  14.67  28.79  \n",
      "1978-12-31  11.38  12.08  22.08  \n",
      "\n",
      "[6574 rows x 12 columns]\n"
     ]
    }
   ],
   "source": [
    "\n",
    "# Replace the first 3 columns with a proper datetime index\n",
    "data['Date'] = pd.to_datetime(data[['Yr', 'Mo', 'Dy']].astype(str).agg('-'.join, axis=1), format='%y-%m-%d')\n",
    "data.set_index('Date', inplace=True)\n",
    "data = data.drop(columns=['Yr', 'Mo', 'Dy'])\n",
    "print(data)\n"
   ]
  },
  {
   "cell_type": "code",
   "execution_count": 70,
   "id": "19a3e14c",
   "metadata": {},
   "outputs": [],
   "source": [
    "#  Fix year 2061 by replacing it with 1961\n",
    "def fix_year(year):\n",
    "    if year == 2061:\n",
    "        return 1961\n",
    "    return year\n",
    "\n",
    "data.index = data.index.to_series().apply(lambda x: x.replace(year=fix_year(x.year)))\n"
   ]
  },
  {
   "cell_type": "code",
   "execution_count": 71,
   "id": "e613f6ed",
   "metadata": {},
   "outputs": [],
   "source": [
    "\n",
    "#Ensure the datetime index is of type datetime64[ns]\n",
    "data.index = pd.to_datetime(data.index)\n",
    "\n"
   ]
  },
  {
   "cell_type": "code",
   "execution_count": 72,
   "id": "7868ff83",
   "metadata": {},
   "outputs": [
    {
     "name": "stdout",
     "output_type": "stream",
     "text": [
      "Missing values for each location:\n",
      " RPT    6\n",
      "VAL    3\n",
      "ROS    2\n",
      "KIL    5\n",
      "SHA    2\n",
      "BIR    0\n",
      "DUB    3\n",
      "CLA    2\n",
      "MUL    3\n",
      "CLO    1\n",
      "BEL    0\n",
      "MAL    4\n",
      "dtype: int64\n"
     ]
    }
   ],
   "source": [
    "\n",
    "#Compute how many values are missing for each location\n",
    "missing_values = data.isna().sum()\n",
    "print(\"Missing values for each location:\\n\", missing_values)\n"
   ]
  },
  {
   "cell_type": "code",
   "execution_count": 73,
   "id": "01aa45b0",
   "metadata": {},
   "outputs": [
    {
     "name": "stdout",
     "output_type": "stream",
     "text": [
      "78857\n"
     ]
    }
   ],
   "source": [
    "#  Compute how many non-missing values there are in total\n",
    "non_missing_counts = data.notna().sum().sum()\n",
    "print(non_missing_counts)"
   ]
  },
  {
   "cell_type": "code",
   "execution_count": 74,
   "id": "1c429a9a",
   "metadata": {},
   "outputs": [
    {
     "name": "stdout",
     "output_type": "stream",
     "text": [
      "10.227982360836938\n"
     ]
    }
   ],
   "source": [
    "#  Calculate the mean windspeeds of the windspeeds over all the locations and all the times\n",
    "mean_windspeed = data.mean().mean()\n",
    "print(mean_windspeed)"
   ]
  },
  {
   "cell_type": "code",
   "execution_count": 75,
   "id": "2d560a59",
   "metadata": {},
   "outputs": [
    {
     "name": "stdout",
     "output_type": "stream",
     "text": [
      "Statistics for each location:\n",
      "             RPT        VAL        ROS        KIL        SHA        BIR  \\\n",
      "min    0.670000   0.210000   1.500000   0.000000   0.130000   0.000000   \n",
      "max   35.800000  33.370000  33.840000  28.460000  37.540000  26.160000   \n",
      "mean  12.362987  10.644314  11.660526   6.306468  10.455834   7.092254   \n",
      "std    5.618413   5.267356   5.008450   3.605811   4.936125   3.968683   \n",
      "\n",
      "            DUB        CLA        MUL        CLO        BEL        MAL  \n",
      "min    0.000000   0.000000   0.000000   0.040000   0.130000   0.670000  \n",
      "max   30.370000  31.080000  25.880000  28.210000  42.380000  42.540000  \n",
      "mean   9.797343   8.495053   8.493590   8.707332  13.121007  15.599079  \n",
      "std    4.977555   4.499449   4.166872   4.503954   5.835037   6.699794  \n"
     ]
    }
   ],
   "source": [
    "#Create a DataFrame called loc_stats and calculate min, max, mean, and std for each location\n",
    "loc_stats = data.agg(['min', 'max', 'mean', 'std'])\n",
    "print(\"Statistics for each location:\\n\", loc_stats)\n"
   ]
  },
  {
   "cell_type": "code",
   "execution_count": 76,
   "id": "da18dc9e",
   "metadata": {},
   "outputs": [
    {
     "name": "stdout",
     "output_type": "stream",
     "text": [
      "              RPT                      VAL                      ROS         \\\n",
      "              min    max   mean std    min    max   mean std    min    max   \n",
      "Date                                                                         \n",
      "1961-01-01  15.04  15.04  15.04 NaN  14.96  14.96  14.96 NaN  13.17  13.17   \n",
      "1961-01-02  14.71  14.71  14.71 NaN    NaN    NaN    NaN NaN  10.83  10.83   \n",
      "1961-01-03  18.50  18.50  18.50 NaN  16.88  16.88  16.88 NaN  12.33  12.33   \n",
      "1961-01-04  10.58  10.58  10.58 NaN   6.63   6.63   6.63 NaN  11.75  11.75   \n",
      "1961-01-05  13.33  13.33  13.33 NaN  13.25  13.25  13.25 NaN  11.42  11.42   \n",
      "...           ...    ...    ...  ..    ...    ...    ...  ..    ...    ...   \n",
      "2068-12-27  12.21  12.21  12.21 NaN   3.96   3.96   3.96 NaN  15.71  15.71   \n",
      "2068-12-28  16.96  16.96  16.96 NaN   7.75   7.75   7.75 NaN  18.00  18.00   \n",
      "2068-12-29  16.62  16.62  16.62 NaN   5.96   5.96   5.96 NaN  16.88  16.88   \n",
      "2068-12-30  12.96  12.96  12.96 NaN   7.08   7.08   7.08 NaN  12.25  12.25   \n",
      "2068-12-31   9.13   9.13   9.13 NaN   2.13   2.13   2.13 NaN   7.38   7.38   \n",
      "\n",
      "            ...    CLO        BEL                      MAL                    \n",
      "            ...   mean std    min    max   mean std    min    max   mean std  \n",
      "Date        ...                                                               \n",
      "1961-01-01  ...  12.58 NaN  18.50  18.50  18.50 NaN  15.04  15.04  15.04 NaN  \n",
      "1961-01-02  ...   9.67 NaN  17.54  17.54  17.54 NaN  13.83  13.83  13.83 NaN  \n",
      "1961-01-03  ...   7.67 NaN  12.75  12.75  12.75 NaN  12.71  12.71  12.71 NaN  \n",
      "1961-01-04  ...   5.88 NaN   5.46   5.46   5.46 NaN  10.88  10.88  10.88 NaN  \n",
      "1961-01-05  ...  10.34 NaN  12.92  12.92  12.92 NaN  11.83  11.83  11.83 NaN  \n",
      "...         ...    ...  ..    ...    ...    ...  ..    ...    ...    ...  ..  \n",
      "2068-12-27  ...   8.29 NaN  12.12  12.12  12.12 NaN  25.00  25.00  25.00 NaN  \n",
      "2068-12-28  ...   9.08 NaN  18.58  18.58  18.58 NaN  30.16  30.16  30.16 NaN  \n",
      "2068-12-29  ...  10.00 NaN  13.08  13.08  13.08 NaN  26.25  26.25  26.25 NaN  \n",
      "2068-12-30  ...   8.67 NaN   8.17   8.17   8.17 NaN  19.04  19.04  19.04 NaN  \n",
      "2068-12-31  ...   5.50 NaN   5.71   5.71   5.71 NaN  12.42  12.42  12.42 NaN  \n",
      "\n",
      "[6574 rows x 48 columns]\n"
     ]
    }
   ],
   "source": [
    "#  Create a DataFrame called day_stats and calculate the min, max and mean windspeed and standard deviations of the windspeeds across all the locations at each day\n",
    "day_stats = data.groupby(data.index).agg(['min', 'max', 'mean', 'std'])\n",
    "print(day_stats)"
   ]
  },
  {
   "cell_type": "code",
   "execution_count": 77,
   "id": "7de98550",
   "metadata": {},
   "outputs": [
    {
     "name": "stdout",
     "output_type": "stream",
     "text": [
      "            RPT        VAL        ROS        KIL        SHA        BIR  \\\n",
      "Date                                                                     \n",
      "1961  14.841333  11.988333  13.431613   7.736774  11.072759   8.588065   \n",
      "1969  12.824839  12.113871  11.403871   6.708710  10.557097   5.926452   \n",
      "1970  13.152581  11.731935  13.083871   5.810968   9.507742   8.040323   \n",
      "1971  15.098065  13.398387  13.080000   6.364194  11.342258   7.759677   \n",
      "1972  14.383871  11.848387  13.732258   5.925161  10.823226   7.291290   \n",
      "1973  13.177742  12.202903  10.860968   5.454516   9.327419   7.419677   \n",
      "1974  20.990968  17.623548  17.514839  10.549355  15.858387  11.298387   \n",
      "1975  17.100323  15.812903  13.942581   8.081935  13.934194   8.437742   \n",
      "1976  15.626129  14.240323  13.867097   7.789355  13.081935   9.003548   \n",
      "1977  13.404516  10.377742  12.764839   5.884516   9.159677   8.005161   \n",
      "1978  14.291935  11.872258  12.014194   6.463226  11.402903   7.517097   \n",
      "2062  14.783871  13.160323  12.591935   7.538065  11.779677   8.720000   \n",
      "2063  14.868387  11.112903  15.121613   6.635806  11.080645   7.835484   \n",
      "2064  12.661290  11.818387  11.741290   6.953548  11.400645   6.865806   \n",
      "2065  15.741613  15.546774  15.274194   8.258387  13.588065   9.251290   \n",
      "2066  15.834839  13.283226  15.136452   8.659355  12.968065   9.163548   \n",
      "2067  13.736129  11.470968  11.537419   6.928065  10.833548   6.730323   \n",
      "2068  14.733226  12.829032  12.294194   7.849032  12.262581   7.133226   \n",
      "\n",
      "            DUB        CLA        MUL        CLO        BEL        MAL  \n",
      "Date                                                                    \n",
      "1961  11.184839   9.245333   9.085806  10.107419  13.880968  14.703226  \n",
      "1969   9.882903   8.375161   8.378065   9.515484  13.410000  16.957742  \n",
      "1970   9.843226   8.834194   8.407097   7.626452  12.403871  17.192903  \n",
      "1971  10.297419   8.350000   8.979355   8.666774  14.392581  16.360000  \n",
      "1972  11.287097   6.733548   9.109355   8.728387  12.170645  17.598710  \n",
      "1973  10.738710   7.880000   8.651290   7.596774  12.076452  14.684516  \n",
      "1974  14.112258  12.786452  14.691935  15.092903  19.929677  24.573226  \n",
      "1975  13.179677  12.601935  13.000645  11.064839  19.266774  21.713226  \n",
      "1976  15.121290  11.414839  13.493226  11.553871  16.337097  22.896129  \n",
      "1977  10.107419   7.211613   8.280000   9.328387  12.131935  18.830000  \n",
      "1978  12.207097  10.206452   9.549032   9.247419  15.101613  20.715806  \n",
      "2062  14.211935   9.600000   9.670000  11.498710  16.369355  15.661613  \n",
      "2063  12.797419   9.844839   7.841613   9.390000  11.428710  18.822258  \n",
      "2064   9.592903   9.687419   6.947742   9.676774  15.067419  14.145484  \n",
      "2065  13.850968  11.260000   9.899355  11.706129  16.196129  17.888710  \n",
      "2066  12.150000  10.475806   8.750645  10.739677  14.074516  15.554194  \n",
      "2067   9.787419   7.474839   7.627097  10.169032  13.457742  17.124516  \n",
      "2068  12.395806   9.225806   9.415484   9.255161  14.213871  19.095484  \n"
     ]
    }
   ],
   "source": [
    "#  Find the average windspeed in January for each location\n",
    "january_data = data[data.index.month == 1]\n",
    "january_avg_windspeed = january_data.groupby(january_data.index.year).mean()\n",
    "print(january_avg_windspeed)\n"
   ]
  },
  {
   "cell_type": "code",
   "execution_count": 78,
   "id": "f049213d",
   "metadata": {},
   "outputs": [
    {
     "name": "stdout",
     "output_type": "stream",
     "text": [
      "Yearly frequency data:\n",
      "                   RPT        VAL        ROS       KIL        SHA       BIR  \\\n",
      "Date                                                                         \n",
      "1961-12-31  12.299583  10.351796  11.362369  6.958227  10.881763  7.729726   \n",
      "1962-12-31        NaN        NaN        NaN       NaN        NaN       NaN   \n",
      "1963-12-31        NaN        NaN        NaN       NaN        NaN       NaN   \n",
      "1964-12-31        NaN        NaN        NaN       NaN        NaN       NaN   \n",
      "1965-12-31        NaN        NaN        NaN       NaN        NaN       NaN   \n",
      "...               ...        ...        ...       ...        ...       ...   \n",
      "2064-12-31  12.363661  10.920164  12.104372  6.787787  11.454481  7.570874   \n",
      "2065-12-31  12.451370  11.075534  11.848767  6.858466  11.024795  7.478110   \n",
      "2066-12-31  13.461973  11.557205  12.020630  7.345726  11.805041  7.793671   \n",
      "2067-12-31  12.737151  10.990986  11.739397  7.143425  11.630740  7.368164   \n",
      "2068-12-31  11.835628  10.468197  11.409754  6.477678  10.760765  6.067322   \n",
      "\n",
      "                  DUB       CLA       MUL        CLO        BEL        MAL  \n",
      "Date                                                                        \n",
      "1961-12-31   9.733923  8.858788  8.647652   9.835577  13.502795  13.680773  \n",
      "1962-12-31        NaN       NaN       NaN        NaN        NaN        NaN  \n",
      "1963-12-31        NaN       NaN       NaN        NaN        NaN        NaN  \n",
      "1964-12-31        NaN       NaN       NaN        NaN        NaN        NaN  \n",
      "1965-12-31        NaN       NaN       NaN        NaN        NaN        NaN  \n",
      "...               ...       ...       ...        ...        ...        ...  \n",
      "2064-12-31  10.259153  9.467350  7.789016  10.207951  13.740546  14.910301  \n",
      "2065-12-31  10.618712  8.879918  7.907425   9.918082  12.964247  15.591644  \n",
      "2066-12-31  10.579808  8.835096  8.514438   9.768959  14.265836  16.307260  \n",
      "2067-12-31  10.652027  9.325616  8.645014   9.547425  14.774548  17.135945  \n",
      "2068-12-31   8.859180  8.255519  7.224945   7.832978  12.808634  15.017486  \n",
      "\n",
      "[108 rows x 12 columns]\n"
     ]
    }
   ],
   "source": [
    "#Downsample the record to a yearly frequency for each location\n",
    "yearly_data = data.resample('Y').mean()\n",
    "print(\"Yearly frequency data:\\n\", yearly_data)\n",
    "\n"
   ]
  },
  {
   "cell_type": "code",
   "execution_count": 79,
   "id": "064039f2",
   "metadata": {},
   "outputs": [
    {
     "name": "stdout",
     "output_type": "stream",
     "text": [
      "Monthly frequency data:\n",
      "                   RPT        VAL        ROS       KIL        SHA        BIR  \\\n",
      "Date                                                                          \n",
      "1961-01-31  14.841333  11.988333  13.431613  7.736774  11.072759   8.588065   \n",
      "1961-02-28  16.269286  14.975357  14.441481  9.230741  13.852143  10.937500   \n",
      "1961-03-31  10.890000  11.296452  10.752903  7.284000  10.509355   8.866774   \n",
      "1961-04-30  10.722667   9.427667   9.998000  5.830667   8.435000   6.495000   \n",
      "1961-05-31   9.860968   8.850000  10.818065  5.905333   9.490323   6.574839   \n",
      "...               ...        ...        ...       ...        ...        ...   \n",
      "2068-08-31   9.231935   6.870323  13.075161  6.074839   8.954516   4.835484   \n",
      "2068-09-30  12.137000  11.160667  12.008000  6.886000  11.718667   6.497333   \n",
      "2068-10-31  12.521290  11.755484  11.235161  6.433871  11.381935   6.554516   \n",
      "2068-11-30  14.604000  14.257333  14.422333  6.828000  13.046333   8.008667   \n",
      "2068-12-31  13.090645  11.132903  13.237742  6.070000   9.675161   5.445484   \n",
      "\n",
      "                  DUB        CLA        MUL        CLO        BEL        MAL  \n",
      "Date                                                                          \n",
      "1961-01-31  11.184839   9.245333   9.085806  10.107419  13.880968  14.703226  \n",
      "1961-02-28  11.890714  11.846071  11.821429  12.714286  18.583214  15.411786  \n",
      "1961-03-31   9.644194   9.829677  10.294138  11.251935  16.410968  15.720000  \n",
      "1961-04-30   6.925333   7.094667   7.342333   7.237000  11.147333  10.278333  \n",
      "1961-05-31   7.604000   8.177097   8.039355   8.499355  11.900323  12.011613  \n",
      "...               ...        ...        ...        ...        ...        ...  \n",
      "2068-08-31   6.752903   6.429677   5.882258   4.733548  10.793226   9.819032  \n",
      "2068-09-30   9.476000   8.504000   7.781333   7.584000  12.900333  13.583667  \n",
      "2068-10-31   8.357742   9.450645   8.102258   8.370968  14.871935  16.388065  \n",
      "2068-11-30  10.813000  11.214333   9.175333  10.901667  15.818667  20.313000  \n",
      "2068-12-31   9.338710   7.143548   7.893226   9.208065  12.050323  18.806452  \n",
      "\n",
      "[1296 rows x 12 columns]\n"
     ]
    }
   ],
   "source": [
    "#  Downsample the record to a monthly frequency for each location\n",
    "monthly_data = data.resample('M').mean()\n",
    "print(\"Monthly frequency data:\\n\", monthly_data)\n"
   ]
  },
  {
   "cell_type": "code",
   "execution_count": 80,
   "id": "7b9db863",
   "metadata": {},
   "outputs": [
    {
     "name": "stdout",
     "output_type": "stream",
     "text": [
      "Weekly frequency data:\n",
      "                   RPT        VAL        ROS        KIL        SHA        BIR  \\\n",
      "Date                                                                           \n",
      "1961-01-01  15.040000  14.960000  13.170000   9.290000        NaN   9.870000   \n",
      "1961-01-08  13.541429  11.486667  10.487143   6.417143   9.474286   6.435714   \n",
      "1961-01-15  12.468571   8.967143  11.958571   4.630000   7.351429   5.072857   \n",
      "1961-01-22  13.204286   9.862857  12.982857   6.328571   8.966667   7.417143   \n",
      "1961-01-29  19.880000  16.141429  18.225714  12.720000  17.432857  14.828571   \n",
      "...               ...        ...        ...        ...        ...        ...   \n",
      "2068-12-09   9.251429  10.535714  12.772857   5.142857   8.684286   4.720000   \n",
      "2068-12-16  12.047143  10.464286  10.857143   4.685714   8.707143   4.780000   \n",
      "2068-12-23  18.220000  15.165714  15.737143   9.208571  13.352857   8.395714   \n",
      "2068-12-30  13.251429   9.327143  14.167143   5.338571   8.341429   3.915714   \n",
      "2069-01-06   9.130000   2.130000   7.380000   2.500000   4.040000   0.500000   \n",
      "\n",
      "                  DUB        CLA        MUL        CLO        BEL        MAL  \n",
      "Date                                                                          \n",
      "1961-01-01  13.670000  10.250000  10.830000  12.580000  18.500000  15.040000  \n",
      "1961-01-08  11.061429   6.616667   8.434286   8.497143  12.481429  13.238571  \n",
      "1961-01-15   7.535714   6.820000   5.712857   7.571429  11.125714  11.024286  \n",
      "1961-01-22   9.257143   7.875714   7.145714   8.124286   9.821429  11.434286  \n",
      "1961-01-29  15.528571  15.160000  14.480000  15.640000  20.930000  22.530000  \n",
      "...               ...        ...        ...        ...        ...        ...  \n",
      "2068-12-09   7.632857   6.535714   6.081429   8.310000  10.855714  15.102857  \n",
      "2068-12-16   6.470000   6.095714   6.302857   7.690000  10.970000  14.588571  \n",
      "2068-12-23  13.701429  10.178571  11.177143  12.630000  15.750000  22.332857  \n",
      "2068-12-30   9.368571   5.641429   7.947143   8.124286  11.712857  23.225714  \n",
      "2069-01-06   6.830000   2.540000   3.540000   5.500000   5.710000  12.420000  \n",
      "\n",
      "[5637 rows x 12 columns]\n"
     ]
    }
   ],
   "source": [
    "#  Downsample the record to a weekly frequency for each location\n",
    "weekly_data = data.resample('W').mean()\n",
    "print(\"Weekly frequency data:\\n\", weekly_data)\n",
    "\n"
   ]
  },
  {
   "cell_type": "code",
   "execution_count": 81,
   "id": "0d7d25b7",
   "metadata": {},
   "outputs": [
    {
     "name": "stdout",
     "output_type": "stream",
     "text": [
      "              RPT                                VAL                    \\\n",
      "              min    max       mean       std    min    max       mean   \n",
      "Date                                                                     \n",
      "1961-01-08  10.58  18.50  13.541429  2.631321   6.63  16.88  11.486667   \n",
      "1961-01-15   9.04  19.75  12.468571  3.555392   3.54  12.08   8.967143   \n",
      "1961-01-22   4.92  19.83  13.204286  5.337402   3.42  14.37   9.862857   \n",
      "1961-01-29  13.62  25.04  19.880000  4.619061   9.96  23.91  16.141429   \n",
      "1961-02-05  10.58  24.21  16.827143  5.251408   9.46  24.21  15.460000   \n",
      "1961-02-12  16.00  24.54  19.684286  3.587677  11.54  21.42  16.417143   \n",
      "1961-02-19   6.04  22.50  15.130000  5.064609  11.63  20.17  15.091429   \n",
      "1961-02-26   7.79  25.80  15.221429  7.020716   7.08  21.50  13.625714   \n",
      "1961-03-05  10.96  13.33  12.101429  0.997721   8.83  17.00  12.951429   \n",
      "1961-03-12   4.88  14.79   9.376667  3.732263   8.08  16.96  11.578571   \n",
      "1961-03-19   4.92  16.88  11.911429  3.860036   9.46  15.54  13.501429   \n",
      "1961-03-26   6.29  15.00   9.567143  3.613298   2.58  11.63   8.387143   \n",
      "1961-04-02   5.88  18.25  10.757143  5.046922   3.50  16.29   8.852857   \n",
      "1961-04-09   4.50  18.12  11.964286  4.604392   7.04  14.62  10.654286   \n",
      "1961-04-16   4.71  15.50   8.965714  3.937727   4.83  12.25   8.000000   \n",
      "1961-04-23   4.00  21.09  12.621429  5.676655   3.71  15.41  10.438571   \n",
      "1961-04-30   4.08  16.29  10.117143  4.349662   6.50  14.46   9.798571   \n",
      "1961-05-07   9.87  23.00  15.367143  5.025507  10.29  19.79  13.970000   \n",
      "1961-05-14   3.54  12.79   7.772857  3.371022   3.96  15.12   8.712857   \n",
      "1961-05-21   4.88  15.04   8.225714  3.631730   3.58  10.17   5.631667   \n",
      "1961-05-28   4.96  11.79   8.155714  2.739433   3.67  12.50   7.388571   \n",
      "1961-06-04   7.00  15.92  10.321429  3.099701   4.75   9.79   7.407143   \n",
      "1961-06-11   8.29  14.42  10.917143  2.248597   6.83  11.54   8.992857   \n",
      "1961-06-18   6.13  14.33  10.571429  3.009482   4.12  14.54   9.565714   \n",
      "1961-06-25   4.00   9.00   7.345714  1.982035   3.25   9.50   6.108571   \n",
      "1961-07-02   7.21  13.13  10.236667  2.557856   6.34  14.37   9.482857   \n",
      "1961-07-09   7.29  17.50  11.715714  3.664855   3.75  10.75   7.220000   \n",
      "1961-07-16   8.63  22.50  16.680000  5.168710   7.87  19.29  13.518571   \n",
      "1961-07-23   3.04   5.88   4.202857  1.047978   2.92   6.79   4.255714   \n",
      "1961-07-30   6.13  16.08  10.561429  4.157641   4.63  13.79   8.445714   \n",
      "1961-08-06   7.67  16.08  10.870000  2.950887   5.09  15.79   8.792857   \n",
      "1961-08-13   2.88  14.21  10.058333  4.422268   4.42  10.00   7.941429   \n",
      "1961-08-20  13.13  18.91  15.607143  2.283635   7.25  13.62  10.565714   \n",
      "1961-08-27   7.67  18.16  12.391429  3.395857   6.87  14.58  11.430000   \n",
      "1961-09-03   3.63  14.46   8.678571  4.398615   1.13  22.00   8.821429   \n",
      "1961-09-10   5.00  17.62  10.541429  5.207278   3.04  13.59   8.798571   \n",
      "1961-09-17   5.33  28.75  17.160000  7.679190   7.12  22.08  14.440000   \n",
      "1961-09-24   6.92  10.25   8.500000  1.267399   2.92  13.62   7.154286   \n",
      "1961-10-01  10.34  23.21  16.044286  4.559572   6.96  13.62  11.361667   \n",
      "1961-10-08   3.13  16.08  11.250000  5.596710   3.63  16.96   8.757143   \n",
      "1961-10-15   3.71  17.12  10.881667  4.780675   6.13  13.25   9.734286   \n",
      "1961-10-22  10.46  28.62  19.260000  7.888314   3.75  19.46  13.364286   \n",
      "1961-10-29   4.33  26.42  16.077143  7.957637   2.75  21.25  11.867143   \n",
      "1961-11-05   5.88  15.79  11.571429  3.369201   3.96  13.46   9.590000   \n",
      "1961-11-12   5.46  16.08  10.428571  3.939811   5.50  10.75   7.690000   \n",
      "1961-11-19   7.50  15.00  10.798571  2.784358   4.21  13.00   7.951429   \n",
      "1961-11-26   5.75  14.29   9.154286  3.214368   3.29  11.79   7.337143   \n",
      "1961-12-03   7.92  23.75  12.608571  5.704669   4.67  18.71  10.442857   \n",
      "1961-12-10  10.83  23.71  17.362857  4.890152   9.21  21.37  14.362857   \n",
      "1961-12-17   9.29  21.34  14.985714  4.095106   8.63  17.62  13.472857   \n",
      "1961-12-24  11.46  24.41  15.757143  4.959717   9.79  16.13  11.971429   \n",
      "1961-12-31   5.04  20.54  13.634286  5.787783   3.08  16.04   9.504286   \n",
      "\n",
      "                        ROS         ...        CLO              BEL         \\\n",
      "                 std    min    max  ...       mean       std    min    max   \n",
      "Date                                ...                                      \n",
      "1961-01-08  3.949525   7.62  12.33  ...   8.497143  1.704941   5.46  17.54   \n",
      "1961-01-15  3.148945   7.08  19.50  ...   7.571429  4.084293   5.25  20.71   \n",
      "1961-01-22  3.837785   7.29  20.79  ...   8.124286  4.783952   6.50  15.92   \n",
      "1961-01-29  5.170224  12.67  25.84  ...  15.640000  3.713368  14.04  27.71   \n",
      "1961-02-05  5.187395   9.04  19.70  ...   9.460000  2.839501   9.17  19.33   \n",
      "1961-02-12  3.608373  13.67  21.34  ...  14.440000  1.746749  15.21  26.38   \n",
      "1961-02-19  3.575012   6.13  19.41  ...  13.542857  2.531361  14.09  29.63   \n",
      "1961-02-26  5.147348   6.08  22.42  ...  12.730000  4.920064   9.59  23.21   \n",
      "1961-03-05  2.851955   8.17  13.67  ...  12.370000  1.593685  11.58  23.45   \n",
      "1961-03-12  3.230167   7.54  16.38  ...  10.458571  3.655113  10.21  22.71   \n",
      "1961-03-19  2.352867   5.25  13.96  ...  11.627143  3.099472  11.29  22.79   \n",
      "1961-03-26  3.657265   4.79  15.63  ...  11.481429  2.538224   8.25  21.34   \n",
      "1961-04-02  4.687315   5.09  14.96  ...   9.631429  3.191115   7.21  18.63   \n",
      "1961-04-09  2.845399   9.29  18.29  ...   7.238571  2.336182   7.62  17.16   \n",
      "1961-04-16  2.607118   3.92  15.79  ...   6.178571  2.161137   5.75  16.17   \n",
      "1961-04-23  4.631736   3.33  17.00  ...   9.551429  3.347972   6.75  19.21   \n",
      "1961-04-30  2.871425   2.54  14.96  ...   6.124286  2.840568   5.13  13.04   \n",
      "1961-05-07  3.750835   8.42  21.21  ...  11.585714  3.620819   4.79  28.08   \n",
      "1961-05-14  3.782947   4.63  12.33  ...   7.822857  5.460237   6.54  18.66   \n",
      "1961-05-21  2.468906   5.91  15.96  ...   7.114286  2.216889   6.63  12.00   \n",
      "1961-05-28  3.378537   3.58  20.96  ...   7.535714  2.575661   6.13  14.33   \n",
      "1961-06-04  1.868125   6.83  15.96  ...   9.035714  2.096989   8.71  17.00   \n",
      "1961-06-11  1.524836   6.04  11.58  ...   8.397143  2.158323   5.37  16.17   \n",
      "1961-06-18  3.509444   6.50  15.50  ...   9.594286  3.792400   7.29  25.25   \n",
      "1961-06-25  2.212460   5.13  10.37  ...  11.257143  2.286218  11.00  19.08   \n",
      "1961-07-02  2.902411   7.62  10.79  ...  10.268571  1.564144   6.96  21.87   \n",
      "1961-07-09  2.686658   7.41  14.92  ...  10.547143  3.657179   7.08  20.41   \n",
      "1961-07-16  3.849630   8.00  14.29  ...  10.157143  3.271899   5.04  20.25   \n",
      "1961-07-23  1.400010   4.08  12.67  ...   6.041429  1.439785   4.21  10.13   \n",
      "1961-07-30  3.203206   6.42  15.67  ...   9.470000  4.350268   7.87  22.17   \n",
      "1961-08-06  3.985226   5.54  15.59  ...   8.951429  2.903018   6.17  18.54   \n",
      "1961-08-13  2.053326   6.00  11.63  ...   7.235000  2.073777   5.88  14.29   \n",
      "1961-08-20  2.523416   9.17  14.04  ...  12.244286  2.730237   9.59  21.92   \n",
      "1961-08-27  3.174702   9.50  17.83  ...  12.507143  3.855302   5.75  23.38   \n",
      "1961-09-03  7.474025   2.42  12.75  ...   8.924286  3.993736   4.79  24.71   \n",
      "1961-09-10  4.003996   3.63  14.88  ...   7.565714  3.649278   5.41  15.83   \n",
      "1961-09-17  5.360585   7.29  26.50  ...  14.268571  5.128338  13.92  23.91   \n",
      "1961-09-24  3.445262   5.33  12.17  ...   6.798571  2.354092   4.54  20.96   \n",
      "1961-10-01  2.812482   7.87  17.58  ...  11.840000  3.908397   7.79  21.37   \n",
      "1961-10-08  5.060803   4.96  17.83  ...   7.662857  4.296870   4.79  17.83   \n",
      "1961-10-15  2.707483   4.21  20.96  ...   9.494286  3.569308   8.54  20.46   \n",
      "1961-10-22  5.998199   9.92  22.63  ...  16.461429  5.890511  10.88  24.71   \n",
      "1961-10-29  6.879973   4.79  23.09  ...  12.952857  6.277629   8.50  27.29   \n",
      "1961-11-05  3.900278   6.54  14.33  ...  11.864286  2.784450  10.29  20.17   \n",
      "1961-11-12  2.141191   3.83  20.41  ...   6.415714  2.843518   6.13  12.58   \n",
      "1961-11-19  3.208548   6.46  32.71  ...   6.031429  4.402588   0.71   9.59   \n",
      "1961-11-26  3.277904   4.42  14.46  ...   9.582857  2.747452   6.50  20.46   \n",
      "1961-12-03  5.107089   8.00  19.92  ...   7.911429  3.680477   5.50  19.04   \n",
      "1961-12-10  4.115506   9.71  20.54  ...  12.022857  4.156207  10.71  21.79   \n",
      "1961-12-17  3.587886   9.04  19.00  ...  11.058571  4.633398   5.50  22.83   \n",
      "1961-12-24  2.220866   8.08  22.13  ...   7.697143  4.637096   5.29  17.67   \n",
      "1961-12-31  4.566479   2.13  29.33  ...   7.701429  3.526625   3.75  13.21   \n",
      "\n",
      "                                   MAL                              \n",
      "                 mean       std    min    max       mean       std  \n",
      "Date                                                                \n",
      "1961-01-08  12.481429  4.349139  10.88  16.46  13.238571  1.773062  \n",
      "1961-01-15  11.125714  5.552215   5.17  16.92  11.024286  4.692355  \n",
      "1961-01-22   9.821429  3.626584   6.79  17.96  11.434286  4.237239  \n",
      "1961-01-29  20.930000  5.210726  17.50  27.63  22.530000  3.874721  \n",
      "1961-02-05  14.012857  4.210858   7.17  19.25  11.935714  4.336104  \n",
      "1961-02-12  21.832857  4.063753  17.04  21.84  19.155714  1.828705  \n",
      "1961-02-19  21.167143  5.910938  10.96  22.58  16.584286  4.685377  \n",
      "1961-02-26  16.304286  5.091162   6.67  23.87  14.322857  6.182283  \n",
      "1961-03-05  17.842857  4.332331   8.83  17.54  13.951667  3.021387  \n",
      "1961-03-12  16.701429  4.358759   5.54  22.54  14.420000  5.769890  \n",
      "1961-03-19  19.350000  3.779727  11.34  22.95  16.227143  4.331958  \n",
      "1961-03-26  14.037143  4.318069  13.13  22.50  18.134286  3.701846  \n",
      "1961-04-02  13.471429  4.179854   7.17  19.58  13.900000  3.924555  \n",
      "1961-04-09  11.712857  3.147781   7.21  15.34  11.371429  2.598271  \n",
      "1961-04-16   9.482857  3.641464   5.66  12.87   8.690000  2.747842  \n",
      "1961-04-23  13.620000  4.735096   4.96  20.46  12.470000  5.908542  \n",
      "1961-04-30   9.720000  2.948237   2.67  17.50   8.637143  5.108365  \n",
      "1961-05-07  17.548571  8.003490   3.83  26.58  14.571429  7.728504  \n",
      "1961-05-14  10.421429  3.968272   3.33  26.30  10.382857  7.858246  \n",
      "1961-05-21   9.624286  1.975853   5.91  14.96  10.612857  3.310819  \n",
      "1961-05-28  10.518571  3.024524   8.00  17.04  11.697143  3.811818  \n",
      "1961-06-04  12.298571  2.611139  10.63  17.96  13.597143  2.593586  \n",
      "1961-06-11  10.148571  3.993062   5.96  19.83  12.250000  4.925055  \n",
      "1961-06-18  15.351429  6.477887   6.13  24.71  15.025714  6.242673  \n",
      "1961-06-25  14.370000  2.498386  13.75  21.50  17.410000  3.063011  \n",
      "1961-07-02  14.535714  6.303747   8.50  16.79  12.133333  3.652313  \n",
      "1961-07-09  12.220000  4.537988  12.08  21.29  15.987143  3.665705  \n",
      "1961-07-16  13.520000  4.971060   5.96  21.96  12.524286  4.974273  \n",
      "1961-07-23   7.524286  2.050218   5.41  10.92   8.415714  2.133994  \n",
      "1961-07-30  12.841429  5.580903   6.13  25.37  13.761429  6.664574  \n",
      "1961-08-06  11.595714  4.901377   9.08  20.25  13.760000  4.448251  \n",
      "1961-08-13  10.934286  2.931302   5.88  15.16  10.125714  3.356585  \n",
      "1961-08-20  14.922857  4.086725  13.04  24.30  16.626667  3.934238  \n",
      "1961-08-27  16.251429  6.711322   8.29  22.29  16.485714  4.947608  \n",
      "1961-09-03  13.664286  7.678051   5.41  22.54  11.022857  6.308087  \n",
      "1961-09-10  10.700000  4.220584   3.37  20.25  11.034286  6.049619  \n",
      "1961-09-17  19.878571  4.464252  14.67  33.09  18.984286  6.332885  \n",
      "1961-09-24  11.018571  5.235868   5.25  14.62   9.814286  3.113507  \n",
      "1961-10-01  16.208571  5.091268   4.04  17.16  13.338571  4.696504  \n",
      "1961-10-08   8.810000  4.800403   4.83  19.62  11.410000  5.462002  \n",
      "1961-10-15  14.451429  4.113200  10.75  21.04  15.260000  4.098130  \n",
      "1961-10-22  17.477143  5.645871  13.46  33.45  23.641429  7.468377  \n",
      "1961-10-29  15.592857  7.056150   9.83  30.88  18.404286  8.340881  \n",
      "1961-11-05  16.322857  4.038493  13.37  23.58  19.195714  3.870800  \n",
      "1961-11-12   9.208571  2.532196   5.71  15.54  10.858571  3.690752  \n",
      "1961-11-19   5.875714  3.643285   2.00  13.25   5.737143  3.787654  \n",
      "1961-11-26  11.772857  5.407223   4.25  22.58  12.732857  6.475867  \n",
      "1961-12-03  11.464286  5.552648   5.88  21.29  14.725714  5.233192  \n",
      "1961-12-10  15.975714  4.667933   7.58  29.33  16.241429  7.345893  \n",
      "1961-12-17  15.112857  6.531043   6.50  21.12  14.644286  5.665006  \n",
      "1961-12-24   9.958571  5.065308   2.62  16.62   8.164286  5.048035  \n",
      "1961-12-31   9.697143  3.262217   6.63  15.21  12.840000  3.012729  \n",
      "\n",
      "[52 rows x 48 columns]\n"
     ]
    }
   ],
   "source": [
    "#Calculate the min, max and mean windspeeds and standard deviations of the windspeeds across all locations for each week (assume that the first week starts on January 2, 1961) for the first 52 weeks\n",
    "start_date = '1961-01-02'\n",
    "data.index = data.index.to_period('W').to_timestamp()\n",
    "first_52_weeks = data.loc[start_date:].resample('W').agg(['min', 'max', 'mean', 'std']).head(52)\n",
    "print(first_52_weeks)"
   ]
  },
  {
   "cell_type": "markdown",
   "id": "1959e395",
   "metadata": {},
   "source": [
    "<b># Question:5</b>"
   ]
  },
  {
   "cell_type": "code",
   "execution_count": 101,
   "id": "eed11b29",
   "metadata": {},
   "outputs": [],
   "source": [
    "\n",
    "import pandas as pd\n"
   ]
  },
  {
   "cell_type": "code",
   "execution_count": 82,
   "id": "3a0bdca7",
   "metadata": {},
   "outputs": [],
   "source": [
    "chipo = pd.read_csv('https://raw.githubusercontent.com/justmarkham/DAT8/master/data/chipotle.tsv', sep='\\t')"
   ]
  },
  {
   "cell_type": "code",
   "execution_count": 83,
   "id": "ae34a72e",
   "metadata": {},
   "outputs": [
    {
     "name": "stdout",
     "output_type": "stream",
     "text": [
      "   order_id  quantity                              item_name  \\\n",
      "0         1         1           Chips and Fresh Tomato Salsa   \n",
      "1         1         1                                   Izze   \n",
      "2         1         1                       Nantucket Nectar   \n",
      "3         1         1  Chips and Tomatillo-Green Chili Salsa   \n",
      "4         2         2                           Chicken Bowl   \n",
      "5         3         1                           Chicken Bowl   \n",
      "6         3         1                          Side of Chips   \n",
      "7         4         1                          Steak Burrito   \n",
      "8         4         1                       Steak Soft Tacos   \n",
      "9         5         1                          Steak Burrito   \n",
      "\n",
      "                                  choice_description item_price  \n",
      "0                                                NaN     $2.39   \n",
      "1                                       [Clementine]     $3.39   \n",
      "2                                            [Apple]     $3.39   \n",
      "3                                                NaN     $2.39   \n",
      "4  [Tomatillo-Red Chili Salsa (Hot), [Black Beans...    $16.98   \n",
      "5  [Fresh Tomato Salsa (Mild), [Rice, Cheese, Sou...    $10.98   \n",
      "6                                                NaN     $1.69   \n",
      "7  [Tomatillo Red Chili Salsa, [Fajita Vegetables...    $11.75   \n",
      "8  [Tomatillo Green Chili Salsa, [Pinto Beans, Ch...     $9.25   \n",
      "9  [Fresh Tomato Salsa, [Rice, Black Beans, Pinto...     $9.25   \n"
     ]
    }
   ],
   "source": [
    "# Display the first 10 entries\n",
    "print(chipo.head(10))\n"
   ]
  },
  {
   "cell_type": "code",
   "execution_count": 84,
   "id": "73a99546",
   "metadata": {},
   "outputs": [
    {
     "name": "stdout",
     "output_type": "stream",
     "text": [
      "4622\n"
     ]
    }
   ],
   "source": [
    "#What is the number of observations in the dataset?\n",
    "print(chipo.shape[0])"
   ]
  },
  {
   "cell_type": "code",
   "execution_count": 85,
   "id": "2a004e10",
   "metadata": {},
   "outputs": [
    {
     "name": "stdout",
     "output_type": "stream",
     "text": [
      "5\n"
     ]
    }
   ],
   "source": [
    "#What is the number of columns in the dataset?\n",
    "print(chipo.shape[1])"
   ]
  },
  {
   "cell_type": "code",
   "execution_count": 86,
   "id": "54a19fde",
   "metadata": {},
   "outputs": [
    {
     "name": "stdout",
     "output_type": "stream",
     "text": [
      "Index(['order_id', 'quantity', 'item_name', 'choice_description',\n",
      "       'item_price'],\n",
      "      dtype='object')\n"
     ]
    }
   ],
   "source": [
    "#Print the name of all the columns.\n",
    "print(chipo.columns)"
   ]
  },
  {
   "cell_type": "code",
   "execution_count": 87,
   "id": "4556ce6e",
   "metadata": {},
   "outputs": [
    {
     "name": "stdout",
     "output_type": "stream",
     "text": [
      "RangeIndex(start=0, stop=4622, step=1)\n"
     ]
    }
   ],
   "source": [
    "# How is the dataset indexed?\n",
    "print(chipo.index)"
   ]
  },
  {
   "cell_type": "code",
   "execution_count": 88,
   "id": "b3cc20e8",
   "metadata": {},
   "outputs": [
    {
     "name": "stdout",
     "output_type": "stream",
     "text": [
      "Chicken Bowl\n"
     ]
    }
   ],
   "source": [
    "#Which was the most-ordered item?\n",
    "most_ordered_item = chipo['item_name'].value_counts().index[0]\n",
    "print(most_ordered_item)"
   ]
  },
  {
   "cell_type": "code",
   "execution_count": 89,
   "id": "75701134",
   "metadata": {},
   "outputs": [
    {
     "name": "stdout",
     "output_type": "stream",
     "text": [
      "726\n"
     ]
    }
   ],
   "source": [
    "#For the most-ordered item, how many items were ordered?\n",
    "most_ordered_item_count = chipo['item_name'].value_counts().iloc[0]\n",
    "print(most_ordered_item_count)"
   ]
  },
  {
   "cell_type": "code",
   "execution_count": 90,
   "id": "0cfead51",
   "metadata": {},
   "outputs": [
    {
     "name": "stdout",
     "output_type": "stream",
     "text": [
      "[Diet Coke]\n"
     ]
    }
   ],
   "source": [
    "# What was the most ordered item in the choice_description column?\n",
    "most_ordered_choice_description = chipo['choice_description'].value_counts().index[0]\n",
    "print(most_ordered_choice_description)"
   ]
  },
  {
   "cell_type": "code",
   "execution_count": 91,
   "id": "a847b3f7",
   "metadata": {},
   "outputs": [
    {
     "name": "stdout",
     "output_type": "stream",
     "text": [
      "4622\n"
     ]
    }
   ],
   "source": [
    "# How many items were orderd in total?\n",
    "total_items_ordered = chipo.shape[0]\n",
    "print(total_items_ordered)"
   ]
  },
  {
   "cell_type": "code",
   "execution_count": 92,
   "id": "db86397c",
   "metadata": {},
   "outputs": [
    {
     "name": "stdout",
     "output_type": "stream",
     "text": [
      "float64\n"
     ]
    }
   ],
   "source": [
    "# Turn the item price into a float\n",
    "#Check the item price type\n",
    "# Create a lambda function and change the type of item price\n",
    "# Check the item price type\n",
    "chipo['item_price'] = chipo['item_price'].apply(lambda x: float(x.replace('$', '').replace(',', '')))\n",
    "print(chipo['item_price'].dtype)"
   ]
  },
  {
   "cell_type": "code",
   "execution_count": 93,
   "id": "72898728",
   "metadata": {},
   "outputs": [
    {
     "name": "stdout",
     "output_type": "stream",
     "text": [
      "Item price type after conversion: float64\n",
      "Item price type after lambda conversion: float64\n"
     ]
    }
   ],
   "source": [
    "# Convert item price to float\n",
    "chipo['item_price'] = chipo['item_price'].replace('[\\$,]', '', regex=True).astype(float)\n",
    "\n",
    "# Check the type\n",
    "print(\"Item price type after conversion:\", chipo['item_price'].dtype)\n",
    "\n",
    "# Create a lambda function and change the type again\n",
    "chipo['item_price'] = chipo['item_price'].apply(lambda x: float(x))\n",
    "\n",
    "# Check the type again\n",
    "print(\"Item price type after lambda conversion:\", chipo['item_price'].dtype)\n"
   ]
  },
  {
   "cell_type": "code",
   "execution_count": 94,
   "id": "7d64525e",
   "metadata": {},
   "outputs": [
    {
     "name": "stdout",
     "output_type": "stream",
     "text": [
      "Total revenue for the period: 39237.02\n"
     ]
    }
   ],
   "source": [
    "# Calculate the revenue\n",
    "chipo['revenue'] = chipo['item_price'] * chipo['quantity']\n",
    "total_revenue = chipo['revenue'].sum()\n",
    "print(\"Total revenue for the period:\", total_revenue)\n"
   ]
  },
  {
   "cell_type": "code",
   "execution_count": 95,
   "id": "9b8850a7",
   "metadata": {},
   "outputs": [
    {
     "name": "stdout",
     "output_type": "stream",
     "text": [
      "Number of orders made: 1834\n"
     ]
    }
   ],
   "source": [
    "# Count number of unique orders\n",
    "num_orders = chipo['order_id'].nunique()\n",
    "print(\"Number of orders made:\", num_orders)\n"
   ]
  },
  {
   "cell_type": "code",
   "execution_count": 96,
   "id": "c6c3a1ae",
   "metadata": {},
   "outputs": [
    {
     "name": "stdout",
     "output_type": "stream",
     "text": [
      "Average revenue amount per order: 21.39423118865867\n"
     ]
    }
   ],
   "source": [
    "# Calculate average revenue per order\n",
    "average_revenue_per_order = total_revenue / num_orders\n",
    "print(\"Average revenue amount per order:\", average_revenue_per_order)\n"
   ]
  },
  {
   "cell_type": "code",
   "execution_count": 97,
   "id": "0b7617f3",
   "metadata": {},
   "outputs": [
    {
     "name": "stdout",
     "output_type": "stream",
     "text": [
      "Number of different items sold: 50\n"
     ]
    }
   ],
   "source": [
    "# Number of unique items sold\n",
    "num_unique_items = chipo['item_name'].nunique()\n",
    "print(\"Number of different items sold:\", num_unique_items)\n"
   ]
  },
  {
   "cell_type": "markdown",
   "id": "31550119",
   "metadata": {},
   "source": [
    "<b># Question:6</b>"
   ]
  },
  {
   "cell_type": "code",
   "execution_count": 1,
   "id": "eeda606f",
   "metadata": {},
   "outputs": [
    {
     "data": {
      "image/png": "[encoded data removed]",
      "text/plain": [
       "<Figure size 1200x600 with 1 Axes>"
      ]
     },
     "metadata": {},
     "output_type": "display_data"
    }
   ],
   "source": [
    "#  Import the necessary libraries\n",
    "import pandas as pd\n",
    "import matplotlib.pyplot as plt\n",
    "\n",
    "# Import the dataset \n",
    "data = pd.read_csv('us-marriages-divorces-1867-2014.csv')\n",
    "\n",
    "#  Prepare the data\n",
    "data['Year'] = pd.to_datetime(data['Year'], format='%Y').dt.year\n",
    "\n",
    "# Plotting\n",
    "plt.figure(figsize=(12, 6))\n",
    "\n",
    "#  Create line plots\n",
    "plt.plot(data['Year'], data['Marriages_per_1000'], label='Marriages per 1000 people', color='blue')\n",
    "plt.plot(data['Year'], data['Divorces_per_1000'], label='Divorces per 1000 people', color='red')\n",
    "\n",
    "# Add labels and title\n",
    "plt.xlabel('Year')\n",
    "plt.ylabel('Rate per 1000 person')\n",
    "plt.title('Number of Marriages and Divorces per 1000 person in the U.S. (1867-2014)')\n",
    "plt.legend()\n",
    "\n",
    "# Show the plot\n",
    "plt.grid(True)\n",
    "plt.tight_layout()\n",
    "plt.show()"
   ]
  },
  {
   "cell_type": "markdown",
   "id": "f05d9301",
   "metadata": {},
   "source": [
    "<b># Question:7</b>"
   ]
  },
  {
   "cell_type": "code",
   "execution_count": 106,
   "id": "fa61f749",
   "metadata": {},
   "outputs": [
    {
     "data": {
      "image/png": "[encoded data removed]",
      "text/plain": [
       "<Figure size 640x480 with 1 Axes>"
      ]
     },
     "metadata": {},
     "output_type": "display_data"
    }
   ],
   "source": [
    "import matplotlib.pyplot as plt\n",
    "import pandas as pd\n",
    "\n",
    "# Load the data\n",
    "data = pd.read_csv(\"us-marriages-divorces-1867-2014.csv\")\n",
    "\n",
    "# Select the data for 1900, 1950, and 2000\n",
    "years = [1900, 1950, 2000]\n",
    "marriages = [data.loc[data[\"Year\"]==year, \"Marriages_per_1000\"].values[0] for year in years]\n",
    "divorces = [data.loc[data[\"Year\"]==year, \"Divorces_per_1000\"].values[0] for year in years]\n",
    "\n",
    "# Create a figure and axis object\n",
    "fig, ax = plt.subplots()\n",
    "\n",
    "# Create a bar chart\n",
    "ax.bar(years, marriages, label=\"Marriages per 1000\")\n",
    "ax.bar(years, divorces, label=\"Divorces per 1000\")\n",
    "\n",
    "# Set the title and axis labels\n",
    "ax.set_title(\"Marriages and Divorces per Capita in the U.S. (1900, 1950, 2000)\")\n",
    "ax.set_xlabel(\"Year\")\n",
    "ax.set_ylabel(\"Rate per 1000\")\n",
    "\n",
    "# Add a legend\n",
    "ax.legend()\n",
    "\n",
    "# Show the plot\n",
    "plt.show()"
   ]
  },
  {
   "cell_type": "markdown",
   "id": "34a7c9ea",
   "metadata": {},
   "source": [
    "<b> # Question:8</b>"
   ]
  },
  {
   "cell_type": "code",
   "execution_count": 107,
   "id": "9dbfd961",
   "metadata": {},
   "outputs": [
    {
     "data": {
      "image/png": "[encoded data removed]",
      "text/plain": [
       "<Figure size 640x480 with 1 Axes>"
      ]
     },
     "metadata": {},
     "output_type": "display_data"
    }
   ],
   "source": [
    "import matplotlib.pyplot as plt\n",
    "\n",
    "# Data for the deadliest actors in Hollywood\n",
    "data = pd.read_csv(\"actor_kill_counts.csv\")\n",
    "\n",
    "# Create a figure and axis object\n",
    "fig, ax = plt.subplots()\n",
    "\n",
    "# Create a horizontal bar chart\n",
    "ax.barh(actors, kill_counts)\n",
    "\n",
    "# Set the title and axis labels\n",
    "ax.set_title(\"Deadliest Actors in Hollywood\")\n",
    "ax.set_xlabel(\"Kill Count\")\n",
    "ax.set_ylabel(\"Actor\")\n",
    "\n",
    "# Show the plot\n",
    "plt.show()"
   ]
  },
  {
   "cell_type": "markdown",
   "id": "7ea0d947",
   "metadata": {},
   "source": [
    "<b>#Question:9</b>"
   ]
  },
  {
   "cell_type": "code",
   "execution_count": 111,
   "id": "87aab3fa",
   "metadata": {},
   "outputs": [
    {
     "data": {
      "image/png": "[encoded data removed]",
      "text/plain": [
       "<Figure size 640x480 with 1 Axes>"
      ]
     },
     "metadata": {},
     "output_type": "display_data"
    }
   ],
   "source": [
    "import matplotlib.pyplot as plt\n",
    "\n",
    "# Data for Roman Emperors\n",
    "labels = ['Assassinated', 'Natural Causes', 'Other']\n",
    "sizes = [31, 44, 25]\n",
    "colors = ['red', 'green', 'blue']\n",
    "explode = (0.1, 0, 0)  # explode 1st slice\n",
    "\n",
    "# Create a pie chart\n",
    "fig, ax = plt.subplots()\n",
    "ax.pie(sizes, explode=explode, labels=labels, colors=colors,\n",
    "       autopct='%1.1f%%', startangle=140)\n",
    "\n",
    "# Set the title\n",
    "ax.set_title(\"Roman Emperors' Causes of Death\")\n",
    "\n",
    "# Equal aspect ratio ensures that pie is drawn as a circle\n",
    "ax.axis('equal')  \n",
    "\n",
    "# Show the plot\n",
    "plt.show()"
   ]
  },
  {
   "cell_type": "markdown",
   "id": "d456e886",
   "metadata": {},
   "source": [
    "<b>#Questoin:10</b>"
   ]
  },
  {
   "cell_type": "code",
   "execution_count": 113,
   "id": "95d39c6c",
   "metadata": {},
   "outputs": [
    {
     "data": {
      "image/png": "[encoded data removed]",
      "text/plain": [
       "<Figure size 640x480 with 2 Axes>"
      ]
     },
     "metadata": {},
     "output_type": "display_data"
    }
   ],
   "source": [
    "import matplotlib.pyplot as plt\n",
    "import numpy as np\n",
    "\n",
    "# Data for total revenue earned by arcades and number of Computer Science PhDs\n",
    "years = np.array([2000, 2001, 2002, 2003, 2004, 2005, 2006, 2007, 2008, 2009])\n",
    "revenue = np.array([1.33, 1.23, 1.15, 1.08, 1.01, 0.95, 0.89, 0.83, 0.77, 0.71])\n",
    "phds = np.array([1034, 1056, 1081, 1106, 1131, 1156, 1181, 1206, 1231, 1256])\n",
    "\n",
    "# Create a figure and axis object\n",
    "fig, ax = plt.subplots()\n",
    "\n",
    "# Create a scatter plot\n",
    "scatter = ax.scatter(revenue, phds, c=years, cmap='viridis')\n",
    "\n",
    "# Set the title and axis labels\n",
    "ax.set_title(\"Relationship between Arcade Revenue and Computer Science PhDs\")\n",
    "ax.set_xlabel(\"Total Revenue Earned by Arcades (Billions USD)\")\n",
    "ax.set_ylabel(\"Number of Computer Science PhDs Awarded\")\n",
    "\n",
    "# Add a colorbar\n",
    "cbar = fig.colorbar(scatter)\n",
    "cbar.set_label(\"Year\")\n",
    "\n",
    "# Show the plot\n",
    "plt.show()"
   ]
  },
  {
   "cell_type": "code",
   "execution_count": null,
   "id": "773f2c88",
   "metadata": {},
   "outputs": [],
   "source": []
  }
 ],
 "metadata": {
  "kernelspec": {
   "display_name": "Python 3 (ipykernel)",
   "language": "python",
   "name": "python3"
  },
  "language_info": {
   "codemirror_mode": {
    "name": "ipython",
    "version": 3
   },
   "file_extension": ".py",
   "mimetype": "text/x-python",
   "name": "python",
   "nbconvert_exporter": "python",
   "pygments_lexer": "ipython3",
   "version": "3.11.7"
  }
 },
 "nbformat": 4,
 "nbformat_minor": 5
}
