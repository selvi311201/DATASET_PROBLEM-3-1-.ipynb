{
 "cells": [
  {
   "cell_type": "markdown",
   "id": "a1966c50",
   "metadata": {},
   "source": [
    "<b># Question:1</b>"
   ]
  },
  {
   "cell_type": "code",
   "execution_count": null,
   "id": "7b8a0b20",
   "metadata": {},
   "outputs": [],
   "source": [
    "\n",
    "import pandas as pd\n",
    "import numpy as np\n"
   ]
  },
  {
   "cell_type": "code",
   "execution_count": 2,
   "id": "1a3df7b5",
   "metadata": {},
   "outputs": [],
   "source": [
    "url = 'https://github.com/justmarkham/DAT8/raw/master/data/u.user'\n",
    "users = pd.read_csv(url, sep='|')\n"
   ]
  },
  {
   "cell_type": "code",
   "execution_count": 11,
   "id": "d95bea1e",
   "metadata": {},
   "outputs": [
    {
     "name": "stdout",
     "output_type": "stream",
     "text": [
      "Mean age per occupation:\n",
      "occupation\n",
      "administrator    38.75\n",
      "artist           31.39\n",
      "doctor           43.57\n",
      "educator         42.01\n",
      "engineer         36.39\n",
      "entertainment    29.22\n",
      "executive        38.72\n",
      "healthcare       41.56\n",
      "homemaker        32.57\n",
      "lawyer           36.75\n",
      "librarian        40.00\n",
      "marketing        37.62\n",
      "none             26.56\n",
      "other            34.52\n",
      "programmer       33.12\n",
      "retired          63.07\n",
      "salesman         35.67\n",
      "scientist        35.55\n",
      "student          22.08\n",
      "technician       33.15\n",
      "writer           36.31\n",
      "Name: age, dtype: float64\n"
     ]
    }
   ],
   "source": [
    "# Discover the mean age per occupation\n",
    "mean_age_by_occupation = users.groupby('occupation')['age'].mean().round(2)\n",
    "print(\"Mean age per occupation:\")\n",
    "print(mean_age_by_occupation)"
   ]
  },
  {
   "cell_type": "code",
   "execution_count": 7,
   "id": "01016cfc",
   "metadata": {},
   "outputs": [
    {
     "name": "stdout",
     "output_type": "stream",
     "text": [
      "\n",
      "Male ratio per occupation (sorted):\n",
      "occupation\n",
      "doctor           1.000000\n",
      "engineer         0.970149\n",
      "technician       0.962963\n",
      "retired          0.928571\n",
      "programmer       0.909091\n",
      "executive        0.906250\n",
      "scientist        0.903226\n",
      "entertainment    0.888889\n",
      "lawyer           0.833333\n",
      "salesman         0.750000\n",
      "educator         0.726316\n",
      "student          0.693878\n",
      "other            0.657143\n",
      "marketing        0.615385\n",
      "writer           0.577778\n",
      "none             0.555556\n",
      "administrator    0.544304\n",
      "artist           0.535714\n",
      "librarian        0.431373\n",
      "healthcare       0.312500\n",
      "homemaker        0.142857\n",
      "dtype: float64\n"
     ]
    }
   ],
   "source": [
    "#Discover the Male ratio per occupation and sort it from the most to the least\n",
    "male_ratio = users[users['gender'] == 'M'].groupby('occupation').size() / users.groupby('occupation').size()\n",
    "male_ratio_sorted = male_ratio.sort_values(ascending=False)\n",
    "print(\"\\nMale ratio per occupation (sorted):\")\n",
    "print(male_ratio_sorted)\n"
   ]
  },
  {
   "cell_type": "code",
   "execution_count": 8,
   "id": "4ae6a2e7",
   "metadata": {},
   "outputs": [
    {
     "name": "stdout",
     "output_type": "stream",
     "text": [
      "\n",
      "Age range by occupation:\n",
      "               min  max\n",
      "occupation             \n",
      "administrator   21   70\n",
      "artist          19   48\n",
      "doctor          28   64\n",
      "educator        23   63\n",
      "engineer        22   70\n",
      "entertainment   15   50\n",
      "executive       22   69\n",
      "healthcare      22   62\n",
      "homemaker       20   50\n",
      "lawyer          21   53\n",
      "librarian       23   69\n",
      "marketing       24   55\n",
      "none            11   55\n",
      "other           13   64\n",
      "programmer      20   63\n",
      "retired         51   73\n",
      "salesman        18   66\n",
      "scientist       23   55\n",
      "student          7   42\n",
      "technician      21   55\n",
      "writer          18   60\n"
     ]
    }
   ],
   "source": [
    "#  For each occupation, calculate the minimum and maximum ages\n",
    "age_range_by_occupation = users.groupby('occupation')['age'].agg(['min', 'max'])\n",
    "print(\"\\nAge range by occupation:\")\n",
    "print(age_range_by_occupation)\n"
   ]
  },
  {
   "cell_type": "code",
   "execution_count": 9,
   "id": "9839fb48",
   "metadata": {},
   "outputs": [
    {
     "name": "stdout",
     "output_type": "stream",
     "text": [
      "\n",
      "Mean age by occupation and gender:\n",
      "occupation     gender\n",
      "administrator  F         40.64\n",
      "               M         37.16\n",
      "artist         F         30.31\n",
      "               M         32.33\n",
      "doctor         M         43.57\n",
      "educator       F         39.12\n",
      "               M         43.10\n",
      "engineer       F         29.50\n",
      "               M         36.60\n",
      "entertainment  F         31.00\n",
      "               M         29.00\n",
      "executive      F         44.00\n",
      "               M         38.17\n",
      "healthcare     F         39.82\n",
      "               M         45.40\n",
      "homemaker      F         34.17\n",
      "               M         23.00\n",
      "lawyer         F         39.50\n",
      "               M         36.20\n",
      "librarian      F         40.00\n",
      "               M         40.00\n",
      "marketing      F         37.20\n",
      "               M         37.88\n",
      "none           F         36.50\n",
      "               M         18.60\n",
      "other          F         35.47\n",
      "               M         34.03\n",
      "programmer     F         32.17\n",
      "               M         33.22\n",
      "retired        F         70.00\n",
      "               M         62.54\n",
      "salesman       F         27.00\n",
      "               M         38.56\n",
      "scientist      F         28.33\n",
      "               M         36.32\n",
      "student        F         20.75\n",
      "               M         22.67\n",
      "technician     F         38.00\n",
      "               M         32.96\n",
      "writer         F         37.63\n",
      "               M         35.35\n",
      "Name: age, dtype: float64\n"
     ]
    }
   ],
   "source": [
    "#  For each combination of occupation and sex, calculate the mean age\n",
    "mean_age_by_occupation_gender = users.groupby(['occupation', 'gender'])['age'].mean().round(2)\n",
    "print(\"\\nMean age by occupation and gender:\")\n",
    "print(mean_age_by_occupation_gender)"
   ]
  },
  {
   "cell_type": "code",
   "execution_count": 10,
   "id": "94134804",
   "metadata": {},
   "outputs": [
    {
     "name": "stdout",
     "output_type": "stream",
     "text": [
      "\n",
      "Percentage of women and men by occupation:\n",
      "gender            F      M\n",
      "occupation                \n",
      "administrator  46.0   54.0\n",
      "artist         46.0   54.0\n",
      "doctor          NaN  100.0\n",
      "educator       27.0   73.0\n",
      "engineer        3.0   97.0\n",
      "entertainment  11.0   89.0\n",
      "executive       9.0   91.0\n",
      "healthcare     69.0   31.0\n",
      "homemaker      86.0   14.0\n",
      "lawyer         17.0   83.0\n",
      "librarian      57.0   43.0\n",
      "marketing      38.0   62.0\n",
      "none           44.0   56.0\n",
      "other          34.0   66.0\n",
      "programmer      9.0   91.0\n",
      "retired         7.0   93.0\n",
      "salesman       25.0   75.0\n",
      "scientist      10.0   90.0\n",
      "student        31.0   69.0\n",
      "technician      4.0   96.0\n",
      "writer         42.0   58.0\n"
     ]
    }
   ],
   "source": [
    "\n",
    "# Step 8: For each occupation, present the percentage of women and men\n",
    "gender_percentage = users.groupby('occupation')['gender'].value_counts(normalize=True).unstack()\n",
    "gender_percentage = gender_percentage.round(2) * 100  # Convert to percentage\n",
    "print(\"\\nPercentage of women and men by occupation:\")\n",
    "print(gender_percentage)"
   ]
  },
  {
   "cell_type": "markdown",
   "id": "949fdef3",
   "metadata": {},
   "source": [
    "<b># Question:2</b>"
   ]
  },
  {
   "cell_type": "markdown",
   "id": "19f377a3",
   "metadata": {},
   "source": [
    "\n",
    "import pandas as pd\n",
    "import numpy as np"
   ]
  },
  {
   "cell_type": "code",
   "execution_count": 13,
   "id": "2d2bb849",
   "metadata": {},
   "outputs": [],
   "source": [
    " Import the dataset and assign it to a variable called euro12\n",
    "euro12 = pd.read_csv('https://raw.githubusercontent.com/guipsamora/pandas_exercises/master/02_Filtering_%26_Sorting/Euro12/Euro_2012_stats_TEAM.csv')"
   ]
  },
  {
   "cell_type": "code",
   "execution_count": 14,
   "id": "ee5e2232",
   "metadata": {},
   "outputs": [
    {
     "name": "stdout",
     "output_type": "stream",
     "text": [
      "Goals column:\n",
      "0      4\n",
      "1      4\n",
      "2      4\n",
      "3      5\n",
      "4      3\n",
      "5     10\n",
      "6      5\n",
      "7      6\n",
      "8      2\n",
      "9      2\n",
      "10     6\n",
      "11     1\n",
      "12     5\n",
      "13    12\n",
      "14     5\n",
      "15     2\n",
      "Name: Goals, dtype: int64\n"
     ]
    }
   ],
   "source": [
    "# Select only the Goal column\n",
    "goals = euro12['Goals']\n",
    "print(\"Goals column:\")\n",
    "print(goals)"
   ]
  },
  {
   "cell_type": "code",
   "execution_count": 15,
   "id": "668b576a",
   "metadata": {},
   "outputs": [
    {
     "name": "stdout",
     "output_type": "stream",
     "text": [
      "\n",
      "Number of teams participated: 16\n"
     ]
    }
   ],
   "source": [
    "#  How many teams participated in Euro 2012?\n",
    "num_teams = len(euro12)\n",
    "print(f\"\\nNumber of teams participated: {num_teams}\")\n"
   ]
  },
  {
   "cell_type": "code",
   "execution_count": 16,
   "id": "601addcd",
   "metadata": {},
   "outputs": [
    {
     "name": "stdout",
     "output_type": "stream",
     "text": [
      "Number of columns: 35\n"
     ]
    }
   ],
   "source": [
    "#  What is the number of columns in the dataset?\n",
    "num_columns = euro12.shape[1]\n",
    "print(f\"Number of columns: {num_columns}\")\n"
   ]
  },
  {
   "cell_type": "code",
   "execution_count": 17,
   "id": "5f93deff",
   "metadata": {},
   "outputs": [
    {
     "name": "stdout",
     "output_type": "stream",
     "text": [
      "\n",
      "Discipline dataframe:\n",
      "                   Team  Yellow Cards  Red Cards\n",
      "0               Croatia             9          0\n",
      "1        Czech Republic             7          0\n",
      "2               Denmark             4          0\n",
      "3               England             5          0\n",
      "4                France             6          0\n",
      "5               Germany             4          0\n",
      "6                Greece             9          1\n",
      "7                 Italy            16          0\n",
      "8           Netherlands             5          0\n",
      "9                Poland             7          1\n",
      "10             Portugal            12          0\n",
      "11  Republic of Ireland             6          1\n",
      "12               Russia             6          0\n",
      "13                Spain            11          0\n",
      "14               Sweden             7          0\n",
      "15              Ukraine             5          0\n"
     ]
    }
   ],
   "source": [
    "#  View only the columns Team, Yellow Cards and Red Cards and assign them to a dataframe called discipline\n",
    "discipline = euro12[['Team', 'Yellow Cards', 'Red Cards']]\n",
    "print(\"\\nDiscipline dataframe:\")\n",
    "print(discipline)\n"
   ]
  },
  {
   "cell_type": "code",
   "execution_count": 18,
   "id": "33121373",
   "metadata": {},
   "outputs": [
    {
     "name": "stdout",
     "output_type": "stream",
     "text": [
      "\n",
      "Teams sorted by Red Cards, then Yellow Cards:\n",
      "                   Team  Yellow Cards  Red Cards\n",
      "6                Greece             9          1\n",
      "9                Poland             7          1\n",
      "11  Republic of Ireland             6          1\n",
      "7                 Italy            16          0\n",
      "10             Portugal            12          0\n",
      "13                Spain            11          0\n",
      "0               Croatia             9          0\n",
      "1        Czech Republic             7          0\n",
      "14               Sweden             7          0\n",
      "4                France             6          0\n",
      "12               Russia             6          0\n",
      "3               England             5          0\n",
      "8           Netherlands             5          0\n",
      "15              Ukraine             5          0\n",
      "2               Denmark             4          0\n",
      "5               Germany             4          0\n"
     ]
    }
   ],
   "source": [
    "#  Sort the teams by Red Cards, then by Yellow Cards\n",
    "discipline_sorted = discipline.sort_values(['Red Cards', 'Yellow Cards'], ascending=False)\n",
    "print(\"\\nTeams sorted by Red Cards, then Yellow Cards:\")\n",
    "print(discipline_sorted)"
   ]
  },
  {
   "cell_type": "code",
   "execution_count": 19,
   "id": "76698e0b",
   "metadata": {},
   "outputs": [
    {
     "name": "stdout",
     "output_type": "stream",
     "text": [
      "\n",
      "Mean Yellow Cards per Team: 7.44\n"
     ]
    }
   ],
   "source": [
    "# Calculate the mean Yellow Cards given per Team\n",
    "mean_yellow_cards = discipline['Yellow Cards'].mean()\n",
    "print(f\"\\nMean Yellow Cards per Team: {mean_yellow_cards:.2f}\")\n"
   ]
  },
  {
   "cell_type": "code",
   "execution_count": 20,
   "id": "8ddc406d",
   "metadata": {},
   "outputs": [
    {
     "name": "stdout",
     "output_type": "stream",
     "text": [
      "\n",
      "Teams that scored more than 6 goals:\n",
      "       Team  Goals\n",
      "5   Germany     10\n",
      "13    Spain     12\n"
     ]
    }
   ],
   "source": [
    "# Filter teams that scored more than 6 goals\n",
    "high_scoring_teams = euro12[euro12['Goals'] > 6]\n",
    "print(\"\\nTeams that scored more than 6 goals:\")\n",
    "print(high_scoring_teams[['Team', 'Goals']])"
   ]
  },
  {
   "cell_type": "code",
   "execution_count": 21,
   "id": "1b597975",
   "metadata": {},
   "outputs": [
    {
     "name": "stdout",
     "output_type": "stream",
     "text": [
      "\n",
      "Teams that start with G:\n",
      "5    Germany\n",
      "6     Greece\n",
      "Name: Team, dtype: object\n"
     ]
    }
   ],
   "source": [
    "#  Select the teams that start with G\n",
    "teams_g = euro12[euro12['Team'].str.startswith('G')]\n",
    "print(\"\\nTeams that start with G:\")\n",
    "print(teams_g['Team'])"
   ]
  },
  {
   "cell_type": "code",
   "execution_count": 22,
   "id": "21136fe8",
   "metadata": {},
   "outputs": [
    {
     "name": "stdout",
     "output_type": "stream",
     "text": [
      "\n",
      "First 7 columns:\n",
      "Index(['Team', 'Goals', 'Shots on target', 'Shots off target',\n",
      "       'Shooting Accuracy', '% Goals-to-shots', 'Total shots (inc. Blocked)'],\n",
      "      dtype='object')\n"
     ]
    }
   ],
   "source": [
    "# Select the first 7 columns\n",
    "first_7_columns = euro12.iloc[:, :7]\n",
    "print(\"\\nFirst 7 columns:\")\n",
    "print(first_7_columns.columns)"
   ]
  },
  {
   "cell_type": "code",
   "execution_count": 23,
   "id": "57becd9e",
   "metadata": {},
   "outputs": [
    {
     "name": "stdout",
     "output_type": "stream",
     "text": [
      "\n",
      "All columns except the last 3:\n",
      "Index(['Team', 'Goals', 'Shots on target', 'Shots off target',\n",
      "       'Shooting Accuracy', '% Goals-to-shots', 'Total shots (inc. Blocked)',\n",
      "       'Hit Woodwork', 'Penalty goals', 'Penalties not scored', 'Headed goals',\n",
      "       'Passes', 'Passes completed', 'Passing Accuracy', 'Touches', 'Crosses',\n",
      "       'Dribbles', 'Corners Taken', 'Tackles', 'Clearances', 'Interceptions',\n",
      "       'Clearances off line', 'Clean Sheets', 'Blocks', 'Goals conceded',\n",
      "       'Saves made', 'Saves-to-shots ratio', 'Fouls Won', 'Fouls Conceded',\n",
      "       'Offsides', 'Yellow Cards', 'Red Cards'],\n",
      "      dtype='object')\n"
     ]
    }
   ],
   "source": [
    "#  Select all columns except the last 3\n",
    "all_but_last_3 = euro12.iloc[:, :-3]\n",
    "print(\"\\nAll columns except the last 3:\")\n",
    "print(all_but_last_3.columns)"
   ]
  },
  {
   "cell_type": "code",
   "execution_count": 24,
   "id": "b55a27ad",
   "metadata": {},
   "outputs": [
    {
     "name": "stdout",
     "output_type": "stream",
     "text": [
      "\n",
      "Shooting Accuracy for England, Italy, and Russia:\n",
      "       Team Shooting Accuracy\n",
      "3   England             50.0%\n",
      "7     Italy             43.0%\n",
      "12   Russia             22.5%\n"
     ]
    }
   ],
   "source": [
    "#  Present only the Shooting Accuracy from England, Italy and Russia\n",
    "selected_teams = ['England', 'Italy', 'Russia']\n",
    "shooting_accuracy = euro12[euro12['Team'].isin(selected_teams)][['Team', 'Shooting Accuracy']]\n",
    "print(\"\\nShooting Accuracy for England, Italy, and Russia:\")\n",
    "print(shooting_accuracy)"
   ]
  },
  {
   "cell_type": "markdown",
   "id": "b3dbd655",
   "metadata": {},
   "source": [
    "<b># Question:3</b>"
   ]
  },
  {
   "cell_type": "markdown",
   "id": "729171ec",
   "metadata": {},
   "source": [
    "\n",
    "import pandas as pd\n",
    "import numpy as np"
   ]
  },
  {
   "cell_type": "code",
   "execution_count": 26,
   "id": "cd8f8ce5",
   "metadata": {},
   "outputs": [],
   "source": [
    "#  Create 3 different Series, each of length 100\n",
    "np.random.seed(0)  # for reproducibility\n",
    "series1 = pd.Series(np.random.randint(1, 5, size=100))  # random number from 1 to 4\n",
    "series2 = pd.Series(np.random.randint(1, 4, size=100))  # random number from 1 to 3\n",
    "series3 = pd.Series(np.random.randint(10000, 30001, size=100))  # random number from 10,000 to 30,000"
   ]
  },
  {
   "cell_type": "code",
   "execution_count": 30,
   "id": "cd295fa2",
   "metadata": {},
   "outputs": [
    {
     "name": "stdout",
     "output_type": "stream",
     "text": [
      "DataFrame head:\n",
      "   0  1      2\n",
      "0  1  2  15021\n",
      "1  4  3  11134\n",
      "2  2  1  26409\n",
      "3  1  1  19680\n",
      "4  4  3  27340\n"
     ]
    }
   ],
   "source": [
    "#  Create a DataFrame by joining the Series by column\n",
    "df = pd.concat([series1, series2, series3], axis=1)\n",
    "print(\"DataFrame head:\")\n",
    "print(df.head())\n"
   ]
  },
  {
   "cell_type": "code",
   "execution_count": 29,
   "id": "9964ad34",
   "metadata": {},
   "outputs": [
    {
     "name": "stdout",
     "output_type": "stream",
     "text": [
      "DataFrame head:\n",
      "   bedrs  bathrs  price_sqr_meter\n",
      "0      1       2            15021\n",
      "1      4       3            11134\n",
      "2      2       1            26409\n",
      "3      1       1            19680\n",
      "4      4       3            27340\n"
     ]
    }
   ],
   "source": [
    "#  Change the name of the columns\n",
    "df.columns = ['bedrs', 'bathrs', 'price_sqr_meter']\n",
    "print(\"DataFrame head:\")\n",
    "print(df.head())\n"
   ]
  },
  {
   "cell_type": "code",
   "execution_count": 32,
   "id": "02b5f791",
   "metadata": {},
   "outputs": [
    {
     "name": "stdout",
     "output_type": "stream",
     "text": [
      "\n",
      "Bigcolumn head:\n",
      "   values\n",
      "0       1\n",
      "1       4\n",
      "2       2\n",
      "3       1\n",
      "4       4\n"
     ]
    }
   ],
   "source": [
    "#  Create a one column DataFrame with the values of the 3 Series\n",
    "bigcolumn = pd.DataFrame(pd.concat([series1, series2, series3], axis=0), columns=['values'])\n",
    "print(\"\\nBigcolumn head:\")\n",
    "print(bigcolumn.head())\n"
   ]
  },
  {
   "cell_type": "code",
   "execution_count": 33,
   "id": "a1367264",
   "metadata": {},
   "outputs": [
    {
     "name": "stdout",
     "output_type": "stream",
     "text": [
      "\n",
      "Is bigcolumn only going until index 99?\n",
      "True\n"
     ]
    }
   ],
   "source": [
    "# Check if it's going only until index 99\n",
    "print(\"\\nIs bigcolumn only going until index 99?\")\n",
    "print(bigcolumn.index.max() == 99)"
   ]
  },
  {
   "cell_type": "code",
   "execution_count": 34,
   "id": "dea60e34",
   "metadata": {},
   "outputs": [
    {
     "name": "stdout",
     "output_type": "stream",
     "text": [
      "\n",
      "Reindexed bigcolumn tail:\n",
      "     values\n",
      "295   28161\n",
      "296   29745\n",
      "297   18338\n",
      "298   24676\n",
      "299   12562\n",
      "\n",
      "New index range:\n",
      "Start: 0, End: 299\n"
     ]
    }
   ],
   "source": [
    "#Reindex the DataFrame so it goes from 0 to 299\n",
    "bigcolumn_reindexed = bigcolumn.reset_index(drop=True)\n",
    "\n",
    "print(\"\\nReindexed bigcolumn tail:\")\n",
    "print(bigcolumn_reindexed.tail())\n",
    "\n",
    "print(\"\\nNew index range:\")\n",
    "print(f\"Start: {bigcolumn_reindexed.index.min()}, End: {bigcolumn_reindexed.index.max()}\")"
   ]
  },
  {
   "cell_type": "markdown",
   "id": "7033fb1b",
   "metadata": {},
   "source": [
    "<b>#Question:4</b>"
   ]
  },
  {
   "cell_type": "markdown",
   "id": "89b0ea63",
   "metadata": {},
   "source": [
    "\n",
    "import pandas as pd\n",
    "import numpy as np\n"
   ]
  },
  {
   "cell_type": "code",
   "execution_count": 37,
   "id": "6e03b15b",
   "metadata": {},
   "outputs": [
    {
     "name": "stdout",
     "output_type": "stream",
     "text": [
      "Requirement already satisfied: pandas in c:\\users\\selvi\\anaconda3\\lib\\site-packages (2.1.4)\n",
      "Requirement already satisfied: numpy in c:\\users\\selvi\\anaconda3\\lib\\site-packages (1.26.4)\n",
      "Requirement already satisfied: python-dateutil>=2.8.2 in c:\\users\\selvi\\anaconda3\\lib\\site-packages (from pandas) (2.8.2)\n",
      "Requirement already satisfied: pytz>=2020.1 in c:\\users\\selvi\\anaconda3\\lib\\site-packages (from pandas) (2023.3.post1)\n",
      "Requirement already satisfied: tzdata>=2022.1 in c:\\users\\selvi\\anaconda3\\lib\\site-packages (from pandas) (2023.3)\n",
      "Requirement already satisfied: six>=1.5 in c:\\users\\selvi\\anaconda3\\lib\\site-packages (from python-dateutil>=2.8.2->pandas) (1.16.0)\n"
     ]
    }
   ],
   "source": [
    "!pip install pandas numpy"
   ]
  },
  {
   "cell_type": "code",
   "execution_count": 42,
   "id": "becf6b77",
   "metadata": {},
   "outputs": [
    {
     "name": "stdout",
     "output_type": "stream",
     "text": [
      "   Yr  Mo  Dy    RPT    VAL    ROS    KIL    SHA   BIR    DUB    CLA    MUL  \\\n",
      "0  61   1   1  15.04  14.96  13.17   9.29    NaN  9.87  13.67  10.25  10.83   \n",
      "1  61   1   2  14.71    NaN  10.83   6.50  12.62  7.67  11.50  10.04   9.79   \n",
      "2  61   1   3  18.50  16.88  12.33  10.13  11.17  6.17  11.25    NaN   8.50   \n",
      "\n",
      "     CLO    BEL    MAL  \n",
      "0  12.58  18.50  15.04  \n",
      "1   9.67  17.54  13.83  \n",
      "2   7.67  12.75  12.71  \n"
     ]
    }
   ],
   "source": [
    "import pandas as pd\n",
    "\n",
    "# Sample data\n",
    "data = {\n",
    "    'Yr': [61, 61, 61],\n",
    "    'Mo': [1, 1, 1],\n",
    "    'Dy': [1, 2, 3],\n",
    "    'RPT': [15.04, 14.71, 18.50],\n",
    "    'VAL': [14.96, None, 16.88],\n",
    "    'ROS': [13.17, 10.83, 12.33],\n",
    "    'KIL': [9.29, 6.50, 10.13],\n",
    "    'SHA': [None, 12.62, 11.17],\n",
    "    'BIR': [9.87, 7.67, 6.17],\n",
    "    'DUB': [13.67, 11.50, 11.25],\n",
    "    'CLA': [10.25, 10.04, None],\n",
    "    'MUL': [10.83, 9.79, 8.50],\n",
    "    'CLO': [12.58, 9.67, 7.67],\n",
    "    'BEL': [18.50, 17.54, 12.75],\n",
    "    'MAL': [15.04, 13.83, 12.71]\n",
    "}\n",
    "\n",
    "# Create DataFrame\n",
    "df = pd.DataFrame(data)\n",
    "\n",
    "# Print DataFrame to check\n",
    "print(df)\n"
   ]
  },
  {
   "cell_type": "code",
   "execution_count": 44,
   "id": "b66331ea",
   "metadata": {},
   "outputs": [],
   "source": [
    "# Save DataFrame to CSV\n",
    "df.to_csv('wind_data.csv', index=False)\n"
   ]
  },
  {
   "cell_type": "code",
   "execution_count": 46,
   "id": "bb492657",
   "metadata": {},
   "outputs": [
    {
     "name": "stdout",
     "output_type": "stream",
     "text": [
      "              RPT    VAL    ROS    KIL    SHA   BIR    DUB    CLA    MUL  \\\n",
      "Date                                                                       \n",
      "2061-01-01  15.04  14.96  13.17   9.29    NaN  9.87  13.67  10.25  10.83   \n",
      "2061-01-02  14.71    NaN  10.83   6.50  12.62  7.67  11.50  10.04   9.79   \n",
      "2061-01-03  18.50  16.88  12.33  10.13  11.17  6.17  11.25    NaN   8.50   \n",
      "\n",
      "              CLO    BEL    MAL  \n",
      "Date                             \n",
      "2061-01-01  12.58  18.50  15.04  \n",
      "2061-01-02   9.67  17.54  13.83  \n",
      "2061-01-03   7.67  12.75  12.71  \n"
     ]
    }
   ],
   "source": [
    "import pandas as pd\n",
    "\n",
    "# Sample data\n",
    "data = {\n",
    "    'Yr': [61, 61, 61],\n",
    "    'Mo': [1, 1, 1],\n",
    "    'Dy': [1, 2, 3],\n",
    "    'RPT': [15.04, 14.71, 18.50],\n",
    "    'VAL': [14.96, None, 16.88],\n",
    "    'ROS': [13.17, 10.83, 12.33],\n",
    "    'KIL': [9.29, 6.50, 10.13],\n",
    "    'SHA': [None, 12.62, 11.17],\n",
    "    'BIR': [9.87, 7.67, 6.17],\n",
    "    'DUB': [13.67, 11.50, 11.25],\n",
    "    'CLA': [10.25, 10.04, None],\n",
    "    'MUL': [10.83, 9.79, 8.50],\n",
    "    'CLO': [12.58, 9.67, 7.67],\n",
    "    'BEL': [18.50, 17.54, 12.75],\n",
    "    'MAL': [15.04, 13.83, 12.71]\n",
    "}\n",
    "\n",
    "# Create DataFrame\n",
    "data = pd.DataFrame(data)\n",
    "\n",
    "# Combine the first three columns into a single 'Date' column\n",
    "data['Date'] = pd.to_datetime(data[['Yr', 'Mo', 'Dy']].astype(str).agg('-'.join, axis=1), format='%y-%m-%d')\n",
    "\n",
    "# Set the 'Date' column as the index\n",
    "data.set_index('Date', inplace=True)\n",
    "\n",
    "# Drop the original Yr, Mo, Dy columns\n",
    "data = data.drop(columns=['Yr', 'Mo', 'Dy'])\n",
    "\n",
    "# Print DataFrame to check\n",
    "print(data)\n"
   ]
  },
  {
   "cell_type": "code",
   "execution_count": 50,
   "id": "b49b83ba",
   "metadata": {},
   "outputs": [
    {
     "name": "stdout",
     "output_type": "stream",
     "text": [
      "datetime64[ns]\n"
     ]
    }
   ],
   "source": [
    "#  Fix the year if necessary\n",
    "def fix_years(dt_index):\n",
    "    # Create a DataFrame from the datetime index\n",
    "    df = pd.DataFrame(index=dt_index)\n",
    "    # Fix years greater than 1960 by subtracting 100\n",
    "    df.index = df.index.map(lambda x: x.replace(year=x.year - 100) if x.year > 1960 else x)\n",
    "    return df.index\n",
    "\n",
    "# Apply the function to fix years\n",
    "data.index = fix_years(data.index)\n",
    "\n",
    "# Verify datetime index\n",
    "print(data.index.dtype)"
   ]
  },
  {
   "cell_type": "code",
   "execution_count": 51,
   "id": "d59d662a",
   "metadata": {},
   "outputs": [
    {
     "name": "stdout",
     "output_type": "stream",
     "text": [
      "datetime64[ns]\n"
     ]
    }
   ],
   "source": [
    "# Check the data type of the index\n",
    "print(data.index.dtype)  # Should print 'datetime64[ns]'\n"
   ]
  },
  {
   "cell_type": "code",
   "execution_count": 52,
   "id": "8a94a5a3",
   "metadata": {},
   "outputs": [
    {
     "name": "stdout",
     "output_type": "stream",
     "text": [
      "RPT    0\n",
      "VAL    1\n",
      "ROS    0\n",
      "KIL    0\n",
      "SHA    1\n",
      "BIR    0\n",
      "DUB    0\n",
      "CLA    1\n",
      "MUL    0\n",
      "CLO    0\n",
      "BEL    0\n",
      "MAL    0\n",
      "dtype: int64\n"
     ]
    }
   ],
   "source": [
    "# Compute how many values are missing for each location\n",
    "missing_counts = data.isna().sum()\n",
    "print(missing_counts)"
   ]
  },
  {
   "cell_type": "code",
   "execution_count": 54,
   "id": "eb3ab6cc",
   "metadata": {},
   "outputs": [
    {
     "name": "stdout",
     "output_type": "stream",
     "text": [
      "33\n"
     ]
    }
   ],
   "source": [
    "#  Compute how many non-missing values there are in total\n",
    "non_missing_counts = data.notna().sum().sum()\n",
    "print(non_missing_counts)"
   ]
  },
  {
   "cell_type": "code",
   "execution_count": 55,
   "id": "8f8e8ffc",
   "metadata": {},
   "outputs": [
    {
     "name": "stdout",
     "output_type": "stream",
     "text": [
      "12.053333333333333\n"
     ]
    }
   ],
   "source": [
    "#  Calculate the mean windspeeds of the windspeeds over all the locations and all the times\n",
    "mean_windspeed = data.mean().mean()\n",
    "print(mean_windspeed)"
   ]
  },
  {
   "cell_type": "code",
   "execution_count": 56,
   "id": "36ce7616",
   "metadata": {},
   "outputs": [
    {
     "name": "stdout",
     "output_type": "stream",
     "text": [
      "       min    max       mean       std\n",
      "RPT  14.71  18.50  16.083333  2.099389\n",
      "VAL  14.96  16.88  15.920000  1.357645\n",
      "ROS  10.83  13.17  12.110000  1.185411\n",
      "KIL   6.50  10.13   8.640000  1.900289\n",
      "SHA  11.17  12.62  11.895000  1.025305\n",
      "BIR   6.17   9.87   7.903333  1.861003\n",
      "DUB  11.25  13.67  12.140000  1.330902\n",
      "CLA  10.04  10.25  10.145000  0.148492\n",
      "MUL   8.50  10.83   9.706667  1.167233\n",
      "CLO   7.67  12.58   9.973333  2.469015\n",
      "BEL  12.75  18.50  16.263333  3.080265\n",
      "MAL  12.71  15.04  13.860000  1.165290\n"
     ]
    }
   ],
   "source": [
    "#  Create a DataFrame called loc_stats and calculate the min, max and mean windspeeds and standard deviations of the windspeeds at each location over all the days\n",
    "loc_stats = data.describe().T[['min', 'max', 'mean', 'std']]\n",
    "print(loc_stats)"
   ]
  },
  {
   "cell_type": "code",
   "execution_count": 57,
   "id": "c69d079c",
   "metadata": {},
   "outputs": [
    {
     "name": "stdout",
     "output_type": "stream",
     "text": [
      "              RPT                      VAL                      ROS         \\\n",
      "              min    max   mean std    min    max   mean std    min    max   \n",
      "Date                                                                         \n",
      "1961-01-01  15.04  15.04  15.04 NaN  14.96  14.96  14.96 NaN  13.17  13.17   \n",
      "1961-01-02  14.71  14.71  14.71 NaN    NaN    NaN    NaN NaN  10.83  10.83   \n",
      "1961-01-03  18.50  18.50  18.50 NaN  16.88  16.88  16.88 NaN  12.33  12.33   \n",
      "\n",
      "            ...    CLO        BEL                      MAL                    \n",
      "            ...   mean std    min    max   mean std    min    max   mean std  \n",
      "Date        ...                                                               \n",
      "1961-01-01  ...  12.58 NaN  18.50  18.50  18.50 NaN  15.04  15.04  15.04 NaN  \n",
      "1961-01-02  ...   9.67 NaN  17.54  17.54  17.54 NaN  13.83  13.83  13.83 NaN  \n",
      "1961-01-03  ...   7.67 NaN  12.75  12.75  12.75 NaN  12.71  12.71  12.71 NaN  \n",
      "\n",
      "[3 rows x 48 columns]\n"
     ]
    }
   ],
   "source": [
    "#  Create a DataFrame called day_stats and calculate the min, max and mean windspeed and standard deviations of the windspeeds across all the locations at each day\n",
    "day_stats = data.groupby(data.index).agg(['min', 'max', 'mean', 'std'])\n",
    "print(day_stats)"
   ]
  },
  {
   "cell_type": "code",
   "execution_count": 58,
   "id": "6700f779",
   "metadata": {},
   "outputs": [
    {
     "name": "stdout",
     "output_type": "stream",
     "text": [
      "            RPT    VAL    ROS   KIL     SHA       BIR    DUB     CLA  \\\n",
      "Date                                                                   \n",
      "1961  16.083333  15.92  12.11  8.64  11.895  7.903333  12.14  10.145   \n",
      "\n",
      "           MUL       CLO        BEL    MAL  \n",
      "Date                                        \n",
      "1961  9.706667  9.973333  16.263333  13.86  \n"
     ]
    }
   ],
   "source": [
    "#  Find the average windspeed in January for each location\n",
    "january_data = data[data.index.month == 1]\n",
    "january_avg_windspeed = january_data.groupby(january_data.index.year).mean()\n",
    "print(january_avg_windspeed)\n"
   ]
  },
  {
   "cell_type": "code",
   "execution_count": 59,
   "id": "20de77b5",
   "metadata": {},
   "outputs": [
    {
     "name": "stdout",
     "output_type": "stream",
     "text": [
      "                  RPT    VAL    ROS   KIL     SHA       BIR    DUB     CLA  \\\n",
      "Date                                                                         \n",
      "1961-12-31  16.083333  15.92  12.11  8.64  11.895  7.903333  12.14  10.145   \n",
      "\n",
      "                 MUL       CLO        BEL    MAL  \n",
      "Date                                              \n",
      "1961-12-31  9.706667  9.973333  16.263333  13.86  \n"
     ]
    }
   ],
   "source": [
    "#  Downsample the record to a yearly frequency for each location\n",
    "yearly_data = data.resample('Y').mean()\n",
    "print(yearly_data)\n"
   ]
  },
  {
   "cell_type": "code",
   "execution_count": 60,
   "id": "a92b7769",
   "metadata": {},
   "outputs": [
    {
     "name": "stdout",
     "output_type": "stream",
     "text": [
      "                  RPT    VAL    ROS   KIL     SHA       BIR    DUB     CLA  \\\n",
      "Date                                                                         \n",
      "1961-01-31  16.083333  15.92  12.11  8.64  11.895  7.903333  12.14  10.145   \n",
      "\n",
      "                 MUL       CLO        BEL    MAL  \n",
      "Date                                              \n",
      "1961-01-31  9.706667  9.973333  16.263333  13.86  \n"
     ]
    }
   ],
   "source": [
    "#  Downsample the record to a monthly frequency for each location\n",
    "monthly_data = data.resample('M').mean()\n",
    "print(monthly_data)"
   ]
  },
  {
   "cell_type": "code",
   "execution_count": 61,
   "id": "dd118555",
   "metadata": {},
   "outputs": [
    {
     "name": "stdout",
     "output_type": "stream",
     "text": [
      "               RPT    VAL    ROS    KIL     SHA   BIR     DUB    CLA     MUL  \\\n",
      "Date                                                                           \n",
      "1961-01-01  15.040  14.96  13.17  9.290     NaN  9.87  13.670  10.25  10.830   \n",
      "1961-01-08  16.605  16.88  11.58  8.315  11.895  6.92  11.375  10.04   9.145   \n",
      "\n",
      "              CLO     BEL    MAL  \n",
      "Date                              \n",
      "1961-01-01  12.58  18.500  15.04  \n",
      "1961-01-08   8.67  15.145  13.27  \n"
     ]
    }
   ],
   "source": [
    "#  Downsample the record to a weekly frequency for each location\n",
    "weekly_data = data.resample('W').mean()\n",
    "print(weekly_data)\n"
   ]
  },
  {
   "cell_type": "code",
   "execution_count": 62,
   "id": "a9f7bfcd",
   "metadata": {},
   "outputs": [
    {
     "name": "stdout",
     "output_type": "stream",
     "text": [
      "              RPT                            VAL                      ROS  \\\n",
      "              min   max    mean       std    min    max   mean std    min   \n",
      "Date                                                                        \n",
      "1961-01-08  14.71  18.5  16.605  2.679935  16.88  16.88  16.88 NaN  10.83   \n",
      "\n",
      "                   ...   CLO              BEL                             MAL  \\\n",
      "              max  ...  mean       std    min    max    mean       std    min   \n",
      "Date               ...                                                          \n",
      "1961-01-08  12.33  ...  8.67  1.414214  12.75  17.54  15.145  3.387041  12.71   \n",
      "\n",
      "                                   \n",
      "              max   mean      std  \n",
      "Date                               \n",
      "1961-01-08  13.83  13.27  0.79196  \n",
      "\n",
      "[1 rows x 48 columns]\n"
     ]
    }
   ],
   "source": [
    "#  Calculate the min, max and mean windspeeds and standard deviations of the windspeeds across all locations for each week (assume that the first week starts on January 2, 1961) for the first 52 weeks\n",
    "start_date = '1961-01-02'\n",
    "data.index = data.index.to_period('W').to_timestamp()\n",
    "first_52_weeks = data.loc[start_date:].resample('W').agg(['min', 'max', 'mean', 'std']).head(52)\n",
    "print(first_52_weeks)"
   ]
  },
  {
   "cell_type": "markdown",
   "id": "c287881a",
   "metadata": {},
   "source": [
    "<b># Question:5</b>"
   ]
  },
  {
   "cell_type": "code",
   "execution_count": 101,
   "id": "1d5b4afb",
   "metadata": {},
   "outputs": [],
   "source": [
    "\n",
    "import pandas as pd\n"
   ]
  },
  {
   "cell_type": "code",
   "execution_count": 102,
   "id": "0f8dae8a",
   "metadata": {},
   "outputs": [],
   "source": [
    "chipo = pd.read_csv('https://raw.githubusercontent.com/justmarkham/DAT8/master/data/chipotle.tsv', sep='\\t')"
   ]
  },
  {
   "cell_type": "code",
   "execution_count": 120,
   "id": "f631477a",
   "metadata": {},
   "outputs": [
    {
     "name": "stdout",
     "output_type": "stream",
     "text": [
      "   order_id  quantity                              item_name  \\\n",
      "0         1         1           Chips and Fresh Tomato Salsa   \n",
      "1         1         1                                   Izze   \n",
      "2         1         1                       Nantucket Nectar   \n",
      "3         1         1  Chips and Tomatillo-Green Chili Salsa   \n",
      "4         2         2                           Chicken Bowl   \n",
      "5         3         1                           Chicken Bowl   \n",
      "6         3         1                          Side of Chips   \n",
      "7         4         1                          Steak Burrito   \n",
      "8         4         1                       Steak Soft Tacos   \n",
      "9         5         1                          Steak Burrito   \n",
      "\n",
      "                                  choice_description  item_price  revenue  \n",
      "0                                                NaN        2.39     2.39  \n",
      "1                                       [Clementine]        3.39     3.39  \n",
      "2                                            [Apple]        3.39     3.39  \n",
      "3                                                NaN        2.39     2.39  \n",
      "4  [Tomatillo-Red Chili Salsa (Hot), [Black Beans...       16.98    33.96  \n",
      "5  [Fresh Tomato Salsa (Mild), [Rice, Cheese, Sou...       10.98    10.98  \n",
      "6                                                NaN        1.69     1.69  \n",
      "7  [Tomatillo Red Chili Salsa, [Fajita Vegetables...       11.75    11.75  \n",
      "8  [Tomatillo Green Chili Salsa, [Pinto Beans, Ch...        9.25     9.25  \n",
      "9  [Fresh Tomato Salsa, [Rice, Black Beans, Pinto...        9.25     9.25  \n"
     ]
    }
   ],
   "source": [
    "# Display the first 10 entries\n",
    "print(chipo.head(10))\n"
   ]
  },
  {
   "cell_type": "code",
   "execution_count": 106,
   "id": "a5b32605",
   "metadata": {},
   "outputs": [
    {
     "name": "stdout",
     "output_type": "stream",
     "text": [
      "4622\n"
     ]
    }
   ],
   "source": [
    "#What is the number of observations in the dataset?\n",
    "print(chipo.shape[0])"
   ]
  },
  {
   "cell_type": "code",
   "execution_count": 107,
   "id": "3dc52148",
   "metadata": {},
   "outputs": [
    {
     "name": "stdout",
     "output_type": "stream",
     "text": [
      "5\n"
     ]
    }
   ],
   "source": [
    "#What is the number of columns in the dataset?\n",
    "print(chipo.shape[1])"
   ]
  },
  {
   "cell_type": "code",
   "execution_count": 108,
   "id": "6b4ee53f",
   "metadata": {},
   "outputs": [
    {
     "name": "stdout",
     "output_type": "stream",
     "text": [
      "Index(['order_id', 'quantity', 'item_name', 'choice_description',\n",
      "       'item_price'],\n",
      "      dtype='object')\n"
     ]
    }
   ],
   "source": [
    "#Print the name of all the columns.\n",
    "print(chipo.columns)"
   ]
  },
  {
   "cell_type": "code",
   "execution_count": 109,
   "id": "86fcf138",
   "metadata": {},
   "outputs": [
    {
     "name": "stdout",
     "output_type": "stream",
     "text": [
      "RangeIndex(start=0, stop=4622, step=1)\n"
     ]
    }
   ],
   "source": [
    "# How is the dataset indexed?\n",
    "print(chipo.index)"
   ]
  },
  {
   "cell_type": "code",
   "execution_count": 110,
   "id": "b34da7c5",
   "metadata": {},
   "outputs": [
    {
     "name": "stdout",
     "output_type": "stream",
     "text": [
      "Chicken Bowl\n"
     ]
    }
   ],
   "source": [
    "#Which was the most-ordered item?\n",
    "most_ordered_item = chipo['item_name'].value_counts().index[0]\n",
    "print(most_ordered_item)"
   ]
  },
  {
   "cell_type": "code",
   "execution_count": 111,
   "id": "6262afca",
   "metadata": {},
   "outputs": [
    {
     "name": "stdout",
     "output_type": "stream",
     "text": [
      "726\n"
     ]
    }
   ],
   "source": [
    "#For the most-ordered item, how many items were ordered?\n",
    "most_ordered_item_count = chipo['item_name'].value_counts().iloc[0]\n",
    "print(most_ordered_item_count)"
   ]
  },
  {
   "cell_type": "code",
   "execution_count": 112,
   "id": "c165fc7f",
   "metadata": {},
   "outputs": [
    {
     "name": "stdout",
     "output_type": "stream",
     "text": [
      "[Diet Coke]\n"
     ]
    }
   ],
   "source": [
    "# What was the most ordered item in the choice_description column?\n",
    "most_ordered_choice_description = chipo['choice_description'].value_counts().index[0]\n",
    "print(most_ordered_choice_description)"
   ]
  },
  {
   "cell_type": "code",
   "execution_count": 113,
   "id": "bc8a6344",
   "metadata": {},
   "outputs": [
    {
     "name": "stdout",
     "output_type": "stream",
     "text": [
      "4622\n"
     ]
    }
   ],
   "source": [
    "# How many items were orderd in total?\n",
    "total_items_ordered = chipo.shape[0]\n",
    "print(total_items_ordered)"
   ]
  },
  {
   "cell_type": "code",
   "execution_count": 114,
   "id": "906093a1",
   "metadata": {},
   "outputs": [
    {
     "name": "stdout",
     "output_type": "stream",
     "text": [
      "float64\n"
     ]
    }
   ],
   "source": [
    "# Turn the item price into a float\n",
    "#Check the item price type\n",
    "# Create a lambda function and change the type of item price\n",
    "# Check the item price type\n",
    "chipo['item_price'] = chipo['item_price'].apply(lambda x: float(x.replace('$', '').replace(',', '')))\n",
    "print(chipo['item_price'].dtype)"
   ]
  },
  {
   "cell_type": "code",
   "execution_count": 115,
   "id": "9f0571c9",
   "metadata": {},
   "outputs": [
    {
     "name": "stdout",
     "output_type": "stream",
     "text": [
      "Item price type after conversion: float64\n",
      "Item price type after lambda conversion: float64\n"
     ]
    }
   ],
   "source": [
    "# Convert item price to float\n",
    "chipo['item_price'] = chipo['item_price'].replace('[\\$,]', '', regex=True).astype(float)\n",
    "\n",
    "# Check the type\n",
    "print(\"Item price type after conversion:\", chipo['item_price'].dtype)\n",
    "\n",
    "# Create a lambda function and change the type again\n",
    "chipo['item_price'] = chipo['item_price'].apply(lambda x: float(x))\n",
    "\n",
    "# Check the type again\n",
    "print(\"Item price type after lambda conversion:\", chipo['item_price'].dtype)\n"
   ]
  },
  {
   "cell_type": "code",
   "execution_count": 116,
   "id": "730b02a6",
   "metadata": {},
   "outputs": [
    {
     "name": "stdout",
     "output_type": "stream",
     "text": [
      "Total revenue for the period: 39237.02\n"
     ]
    }
   ],
   "source": [
    "# Calculate the revenue\n",
    "chipo['revenue'] = chipo['item_price'] * chipo['quantity']\n",
    "total_revenue = chipo['revenue'].sum()\n",
    "print(\"Total revenue for the period:\", total_revenue)\n"
   ]
  },
  {
   "cell_type": "code",
   "execution_count": 117,
   "id": "0101a2d9",
   "metadata": {},
   "outputs": [
    {
     "name": "stdout",
     "output_type": "stream",
     "text": [
      "Number of orders made: 1834\n"
     ]
    }
   ],
   "source": [
    "# Count number of unique orders\n",
    "num_orders = chipo['order_id'].nunique()\n",
    "print(\"Number of orders made:\", num_orders)\n"
   ]
  },
  {
   "cell_type": "code",
   "execution_count": 118,
   "id": "28bfafe4",
   "metadata": {},
   "outputs": [
    {
     "name": "stdout",
     "output_type": "stream",
     "text": [
      "Average revenue amount per order: 21.39423118865867\n"
     ]
    }
   ],
   "source": [
    "# Calculate average revenue per order\n",
    "average_revenue_per_order = total_revenue / num_orders\n",
    "print(\"Average revenue amount per order:\", average_revenue_per_order)\n"
   ]
  },
  {
   "cell_type": "code",
   "execution_count": 99,
   "id": "347cb800",
   "metadata": {},
   "outputs": [
    {
     "name": "stdout",
     "output_type": "stream",
     "text": [
      "Number of different items sold: 50\n"
     ]
    }
   ],
   "source": [
    "# Number of unique items sold\n",
    "num_unique_items = chipo['item_name'].nunique()\n",
    "print(\"Number of different items sold:\", num_unique_items)\n"
   ]
  },
  {
   "cell_type": "markdown",
   "id": "b910cbf6",
   "metadata": {},
   "source": [
    "<b># Question:6</b>"
   ]
  },
  {
   "cell_type": "code",
   "execution_count": 94,
   "id": "8aba6ab0",
   "metadata": {},
   "outputs": [
    {
     "data": {
      "image/png": "[encoded data removed]",
      "text/plain": [
       "<Figure size 1200x600 with 1 Axes>"
      ]
     },
     "metadata": {},
     "output_type": "display_data"
    }
   ],
   "source": [
    "\n",
    "import matplotlib.pyplot as plt\n",
    "import pandas as pd\n",
    "\n",
    "# Example data: replace this with your actual data\n",
    "years = list(range(1867, 2015))  # From 1867 to 2014\n",
    "marriages_per_capita = [0.05 * (year - 1867) for year in years]  # Example data\n",
    "divorces_per_capita = [0.03 * (year - 1867) for year in years]  # Example data\n",
    "\n",
    "# Convert data into a DataFrame for easier manipulation\n",
    "data = pd.DataFrame({\n",
    "    'Year': years,\n",
    "    'Marriages per Capita': marriages_per_capita,\n",
    "    'Divorces per Capita': divorces_per_capita\n",
    "})\n",
    "\n",
    "# Plot the data\n",
    "plt.figure(figsize=(12, 6))\n",
    "\n",
    "plt.plot(data['Year'], data['Marriages per Capita'], label='Marriages per Capita', color='blue', linestyle='-', marker='o')\n",
    "plt.plot(data['Year'], data['Divorces per Capita'], label='Divorces per Capita', color='red', linestyle='--', marker='x')\n",
    "\n",
    "# Add labels and title\n",
    "plt.xlabel('Year')\n",
    "plt.ylabel('Rate per Capita')\n",
    "plt.title('Marriages and Divorces per Capita in the U.S. (1867-2014)')\n",
    "plt.legend()\n",
    "\n",
    "# Show the plot\n",
    "plt.grid(True)\n",
    "plt.show()\n"
   ]
  },
  {
   "cell_type": "markdown",
   "id": "a2fe58d3",
   "metadata": {},
   "source": [
    "<b># Question:7</b>"
   ]
  },
  {
   "cell_type": "code",
   "execution_count": 93,
   "id": "608e6d32",
   "metadata": {},
   "outputs": [
    {
     "data": {
      "image/png": "[encoded data removed]",
      "text/plain": [
       "<Figure size 1000x600 with 1 Axes>"
      ]
     },
     "metadata": {},
     "output_type": "display_data"
    }
   ],
   "source": [
    "\n",
    "import matplotlib.pyplot as plt\n",
    "\n",
    "# Example data: replace these values with your actual data\n",
    "years = [1900, 1950, 2000]\n",
    "marriages_per_capita = [0.12, 0.15, 0.10]  # Example values\n",
    "divorces_per_capita = [0.05, 0.08, 0.07]  # Example values\n",
    "\n",
    "# Set up the figure and axis\n",
    "plt.figure(figsize=(10, 6))\n",
    "\n",
    "# Bar width\n",
    "bar_width = 0.35\n",
    "\n",
    "# Bar positions\n",
    "bar_positions_1 = range(len(years))\n",
    "bar_positions_2 = [pos + bar_width for pos in bar_positions_1]\n",
    "\n",
    "# Plot bars\n",
    "plt.bar(bar_positions_1, marriages_per_capita, width=bar_width, label='Marriages per Capita', color='blue', edgecolor='black')\n",
    "plt.bar(bar_positions_2, divorces_per_capita, width=bar_width, label='Divorces per Capita', color='red', edgecolor='black')\n",
    "\n",
    "# Add labels and title\n",
    "plt.xlabel('Year')\n",
    "plt.ylabel('Rate per Capita')\n",
    "plt.title('Marriages and Divorces per Capita in the U.S. (1900, 1950, 2000)')\n",
    "plt.xticks([pos + bar_width / 2 for pos in bar_positions_1], years)  # Adjust x-ticks to center the bars\n",
    "plt.legend()\n",
    "\n",
    "# Show the plot\n",
    "plt.grid(axis='y')\n",
    "plt.show()\n"
   ]
  },
  {
   "cell_type": "markdown",
   "id": "4bc77ed2",
   "metadata": {},
   "source": [
    "<b> # Question:8</b>"
   ]
  },
  {
   "cell_type": "code",
   "execution_count": 92,
   "id": "8734d3c9",
   "metadata": {},
   "outputs": [
    {
     "data": {
      "image/png": "[encoded data removed]",
      "text/plain": [
       "<Figure size 1000x600 with 1 Axes>"
      ]
     },
     "metadata": {},
     "output_type": "display_data"
    }
   ],
   "source": [
    "\n",
    "import matplotlib.pyplot as plt\n",
    "\n",
    "# Example data: replace these values with your actual data\n",
    "actors = ['Actor A', 'Actor B', 'Actor C', 'Actor D']\n",
    "kill_counts = [150, 200, 180, 220]  # Example kill counts\n",
    "\n",
    "# Sort data by kill count\n",
    "sorted_indices = sorted(range(len(kill_counts)), key=lambda i: kill_counts[i])\n",
    "sorted_actors = [actors[i] for i in sorted_indices]\n",
    "sorted_kill_counts = [kill_counts[i] for i in sorted_indices]\n",
    "\n",
    "# Create a horizontal bar chart\n",
    "plt.figure(figsize=(10, 6))\n",
    "bars = plt.barh(sorted_actors, sorted_kill_counts, color='darkred', edgecolor='black')\n",
    "\n",
    "# Add labels to each bar\n",
    "for bar in bars:\n",
    "    plt.text(bar.get_width() + 5, bar.get_y() + bar.get_height()/2, \n",
    "             f'{bar.get_width()}', \n",
    "             va='center', ha='left', color='black')\n",
    "\n",
    "# Label axes and add a title\n",
    "plt.xlabel('Kill Count')\n",
    "plt.ylabel('Actor')\n",
    "plt.title('Deadliest Actors in Hollywood')\n",
    "plt.grid(axis='x', linestyle='--', alpha=0.7)\n",
    "\n",
    "# Show the plot\n",
    "plt.show()\n"
   ]
  },
  {
   "cell_type": "markdown",
   "id": "3647e4ec",
   "metadata": {},
   "source": [
    "<b>#Question:9</b>"
   ]
  },
  {
   "cell_type": "code",
   "execution_count": 87,
   "id": "23950eae",
   "metadata": {},
   "outputs": [
    {
     "data": {
      "image/png": "[encoded data removed]",
      "text/plain": [
       "<Figure size 800x800 with 1 Axes>"
      ]
     },
     "metadata": {},
     "output_type": "display_data"
    }
   ],
   "source": [
    "\n",
    "import matplotlib.pyplot as plt\n",
    "\n",
    "# Example data: replace these with your actual data\n",
    "categories = ['Assassinated', 'Not Assassinated']\n",
    "counts = [20, 30]  # Example counts; replace with actual numbers\n",
    "\n",
    "# Create a pie chart\n",
    "plt.figure(figsize=(8, 8))\n",
    "plt.pie(counts, \n",
    "        labels=categories, \n",
    "        autopct='%1.1f%%',  # Display percentages with one decimal place\n",
    "        colors=['red', 'green'],  # Colors for the segments\n",
    "        startangle=140,  # Start angle for the pie chart\n",
    "        wedgeprops={'edgecolor': 'black'})  # Add a border around the segments\n",
    "\n",
    "# Equal aspect ratio ensures that pie is drawn as a circle.\n",
    "plt.axis('equal')  \n",
    "\n",
    "# Title\n",
    "plt.title('Fraction of Roman Emperors Assassinated')\n",
    "\n",
    "# Show the plot\n",
    "plt.show()\n"
   ]
  },
  {
   "cell_type": "markdown",
   "id": "6681b13a",
   "metadata": {},
   "source": [
    "<b>#Questoin:10</b>"
   ]
  },
  {
   "cell_type": "code",
   "execution_count": 86,
   "id": "da11d9eb",
   "metadata": {},
   "outputs": [
    {
     "data": {
      "image/png": "[encoded data removed]",
      "text/plain": [
       "<Figure size 1000x600 with 2 Axes>"
      ]
     },
     "metadata": {},
     "output_type": "display_data"
    }
   ],
   "source": [
    "\n",
    "import matplotlib.pyplot as plt\n",
    "import numpy as np\n",
    "import pandas as pd\n",
    "import seaborn as sns\n",
    "\n",
    "# Example data: replace these lists with your actual data\n",
    "years = np.arange(2000, 2010)  # Years from 2000 to 2009\n",
    "revenue = [50, 55, 60, 65, 70, 75, 80, 85, 90, 95]  # Example total revenue values\n",
    "phds_awarded = [500, 520, 550, 580, 600, 620, 650, 680, 700, 730]  # Example number of PhDs awarded\n",
    "\n",
    "# Create a DataFrame from the example data\n",
    "data = pd.DataFrame({\n",
    "    'Year': years,\n",
    "    'Revenue': revenue,\n",
    "    'PhDs': phds_awarded\n",
    "})\n",
    "\n",
    "# Create the scatter plot\n",
    "plt.figure(figsize=(10, 6))\n",
    "scatter = plt.scatter(data['Revenue'], data['PhDs'], c=data['Year'], cmap='viridis', s=100, edgecolor='black')\n",
    "\n",
    "# Add a color bar\n",
    "plt.colorbar(scatter, label='Year')\n",
    "\n",
    "# Label the axes\n",
    "plt.xlabel('Total Revenue Earned by Arcades (in millions)')\n",
    "plt.ylabel('Number of Computer Science PhDs Awarded')\n",
    "plt.title('Relationship between Total Revenue Earned by Arcades and Number of CS PhDs Awarded (2000-2009)')\n",
    "\n",
    "# Show the plot\n",
    "plt.grid(True)\n",
    "plt.show()\n"
   ]
  },
  {
   "cell_type": "code",
   "execution_count": null,
   "id": "bd96bffa",
   "metadata": {},
   "outputs": [],
   "source": []
  }
 ],
 "metadata": {
  "kernelspec": {
   "display_name": "Python 3 (ipykernel)",
   "language": "python",
   "name": "python3"
  },
  "language_info": {
   "codemirror_mode": {
    "name": "ipython",
    "version": 3
   },
   "file_extension": ".py",
   "mimetype": "text/x-python",
   "name": "python",
   "nbconvert_exporter": "python",
   "pygments_lexer": "ipython3",
   "version": "3.11.7"
  }
 },
 "nbformat": 4,
 "nbformat_minor": 5
}
